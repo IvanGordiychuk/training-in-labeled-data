{
 "cells": [
  {
   "cell_type": "markdown",
   "metadata": {},
   "source": [
    "# Линейная регрессия и стохастический градиентный спуск"
   ]
  },
  {
   "cell_type": "markdown",
   "metadata": {},
   "source": [
    "Задание основано на материалах лекций по линейной регрессии и градиентному спуску. Вы будете прогнозировать выручку компании в зависимости от уровня ее инвестиций в рекламу по TV, в газетах и по радио."
   ]
  },
  {
   "cell_type": "markdown",
   "metadata": {},
   "source": [
    "## Вы научитесь:\n",
    "- решать задачу восстановления линейной регрессии\n",
    "- реализовывать стохастический градиентный спуск для ее настройки\n",
    "- решать задачу линейной регрессии аналитически"
   ]
  },
  {
   "cell_type": "markdown",
   "metadata": {},
   "source": [
    "## Введение\n",
    "Линейная регрессия - один из наиболее хорошо изученных методов машинного обучения, позволяющий прогнозировать значения количественного признака в виде линейной комбинации прочих признаков с параметрами - весами модели. Оптимальные (в смысле минимальности некоторого функционала ошибки) параметры линейной регрессии можно найти аналитически с помощью нормального уравнения или численно с помощью методов оптимизации.  "
   ]
  },
  {
   "cell_type": "markdown",
   "metadata": {},
   "source": [
    "Линейная регрессия использует простой функционал качества - среднеквадратичную ошибку. Мы будем работать с выборкой, содержащей 3 признака. Для настройки параметров (весов) модели решается следующая задача:\n",
    "$$\\Large \\frac{1}{\\ell}\\sum_{i=1}^\\ell{{((w_0 + w_1x_{i1} + w_2x_{i2} +  w_3x_{i3}) - y_i)}^2} \\rightarrow \\min_{w_0, w_1, w_2, w_3},$$\n",
    "где $x_{i1}, x_{i2}, x_{i3}$ - значения признаков $i$-го объекта, $y_i$ - значение целевого признака $i$-го объекта, $\\ell$ - число объектов в обучающей выборке."
   ]
  },
  {
   "cell_type": "markdown",
   "metadata": {},
   "source": [
    "## Градиентный спуск\n",
    "Параметры $w_0, w_1, w_2, w_3$, по которым минимизируется среднеквадратичная ошибка, можно находить численно с помощью градиентного спуска.\n",
    "Градиентный шаг для весов будет выглядеть следующим образом:\n",
    "$$\\Large w_0 \\leftarrow w_0 - \\frac{2\\eta}{\\ell} \\sum_{i=1}^\\ell{{((w_0 + w_1x_{i1} + w_2x_{i2} +  w_3x_{i3}) - y_i)}}$$\n",
    "$$\\Large w_j \\leftarrow w_j - \\frac{2\\eta}{\\ell} \\sum_{i=1}^\\ell{{x_{ij}((w_0 + w_1x_{i1} + w_2x_{i2} +  w_3x_{i3}) - y_i)}},\\ j \\in \\{1,2,3\\}$$\n",
    "Здесь $\\eta$ - параметр, шаг градиентного спуска."
   ]
  },
  {
   "cell_type": "markdown",
   "metadata": {},
   "source": [
    "## Стохастический градиентный спуск\n",
    "Проблема градиентного спуска, описанного выше, в том, что на больших выборках считать на каждом шаге градиент по всем имеющимся данным может быть очень вычислительно сложно. \n",
    "В стохастическом варианте градиентного спуска поправки для весов вычисляются только с учетом одного случайно взятого объекта обучающей выборки:\n",
    "$$\\Large w_0 \\leftarrow w_0 - \\frac{2\\eta}{\\ell} {((w_0 + w_1x_{k1} + w_2x_{k2} +  w_3x_{k3}) - y_k)}$$\n",
    "$$\\Large w_j \\leftarrow w_j - \\frac{2\\eta}{\\ell} {x_{kj}((w_0 + w_1x_{k1} + w_2x_{k2} +  w_3x_{k3}) - y_k)},\\ j \\in \\{1,2,3\\},$$\n",
    "где $k$ - случайный индекс, $k \\in \\{1, \\ldots, \\ell\\}$."
   ]
  },
  {
   "cell_type": "markdown",
   "metadata": {},
   "source": [
    "## Нормальное уравнение \n",
    "Нахождение вектора оптимальных весов $w$ может быть сделано и аналитически.\n",
    "Мы хотим найти такой вектор весов $w$, чтобы вектор $y$, приближающий целевой признак, получался умножением матрицы $X$ (состоящей из всех признаков объектов обучающей выборки, кроме целевого) на вектор весов $w$. То есть, чтобы выполнялось матричное уравнение:\n",
    "$$\\Large y = Xw$$\n",
    "Домножением слева на $X^T$ получаем:\n",
    "$$\\Large X^Ty = X^TXw$$\n",
    "Это хорошо, поскольку теперь матрица $X^TX$ - квадратная, и можно найти решение (вектор $w$) в виде:\n",
    "$$\\Large w = {(X^TX)}^{-1}X^Ty$$\n",
    "Матрица ${(X^TX)}^{-1}X^T$ - [*псевдообратная*](https://ru.wikipedia.org/wiki/Псевдообратная_матрица) для матрицы $X$. В NumPy такую матрицу можно вычислить с помощью функции [numpy.linalg.pinv](http://docs.scipy.org/doc/numpy-1.10.0/reference/generated/numpy.linalg.pinv.html).\n",
    "\n",
    "Однако, нахождение псевдообратной матрицы - операция вычислительно сложная и нестабильная в случае малого определителя матрицы $X$ (проблема мультиколлинеарности). \n",
    "На практике лучше находить вектор весов $w$ решением матричного уравнения \n",
    "$$\\Large X^TXw = X^Ty$$Это может быть сделано с помощью функции [numpy.linalg.solve](http://docs.scipy.org/doc/numpy-1.10.1/reference/generated/numpy.linalg.solve.html).\n",
    "\n",
    "Но все же на практике для больших матриц $X$ быстрее работает градиентный спуск, особенно его стохастическая версия."
   ]
  },
  {
   "cell_type": "markdown",
   "metadata": {},
   "source": [
    "## Инструкции по выполнению"
   ]
  },
  {
   "cell_type": "markdown",
   "metadata": {},
   "source": [
    "В начале напишем простую функцию для записи ответов в текстовый файл. Ответами будут числа, полученные в ходе решения этого задания, округленные до 3 знаков после запятой. Полученные файлы после выполнения задания надо отправить в форму на странице задания на Coursera.org."
   ]
  },
  {
   "cell_type": "code",
   "execution_count": 1,
   "metadata": {
    "collapsed": true
   },
   "outputs": [],
   "source": [
    "def write_answer_to_file(answer, filename):\n",
    "    with open(filename, 'w') as f_out:\n",
    "        f_out.write(str(round(answer, 3)))"
   ]
  },
  {
   "cell_type": "markdown",
   "metadata": {},
   "source": [
    "**1. Загрузите данные из файла *advertising.csv* в объект pandas DataFrame. [Источник данных](http://www-bcf.usc.edu/~gareth/ISL/data.html).**"
   ]
  },
  {
   "cell_type": "code",
   "execution_count": 2,
   "metadata": {
    "collapsed": false
   },
   "outputs": [],
   "source": [
    "import pandas as pd\n",
    "adver_data = pd.read_csv('advertising.csv')"
   ]
  },
  {
   "cell_type": "markdown",
   "metadata": {
    "collapsed": true
   },
   "source": [
    "**Посмотрите на первые 5 записей и на статистику признаков в этом наборе данных.**"
   ]
  },
  {
   "cell_type": "code",
   "execution_count": 3,
   "metadata": {
    "collapsed": false
   },
   "outputs": [
    {
     "data": {
      "text/html": [
       "<div>\n",
       "<table border=\"1\" class=\"dataframe\">\n",
       "  <thead>\n",
       "    <tr style=\"text-align: right;\">\n",
       "      <th></th>\n",
       "      <th>TV</th>\n",
       "      <th>Radio</th>\n",
       "      <th>Newspaper</th>\n",
       "      <th>Sales</th>\n",
       "    </tr>\n",
       "  </thead>\n",
       "  <tbody>\n",
       "    <tr>\n",
       "      <th>1</th>\n",
       "      <td>230.1</td>\n",
       "      <td>37.8</td>\n",
       "      <td>69.2</td>\n",
       "      <td>22.1</td>\n",
       "    </tr>\n",
       "    <tr>\n",
       "      <th>2</th>\n",
       "      <td>44.5</td>\n",
       "      <td>39.3</td>\n",
       "      <td>45.1</td>\n",
       "      <td>10.4</td>\n",
       "    </tr>\n",
       "    <tr>\n",
       "      <th>3</th>\n",
       "      <td>17.2</td>\n",
       "      <td>45.9</td>\n",
       "      <td>69.3</td>\n",
       "      <td>9.3</td>\n",
       "    </tr>\n",
       "    <tr>\n",
       "      <th>4</th>\n",
       "      <td>151.5</td>\n",
       "      <td>41.3</td>\n",
       "      <td>58.5</td>\n",
       "      <td>18.5</td>\n",
       "    </tr>\n",
       "    <tr>\n",
       "      <th>5</th>\n",
       "      <td>180.8</td>\n",
       "      <td>10.8</td>\n",
       "      <td>58.4</td>\n",
       "      <td>12.9</td>\n",
       "    </tr>\n",
       "  </tbody>\n",
       "</table>\n",
       "</div>"
      ],
      "text/plain": [
       "      TV  Radio  Newspaper  Sales\n",
       "1  230.1   37.8       69.2   22.1\n",
       "2   44.5   39.3       45.1   10.4\n",
       "3   17.2   45.9       69.3    9.3\n",
       "4  151.5   41.3       58.5   18.5\n",
       "5  180.8   10.8       58.4   12.9"
      ]
     },
     "execution_count": 3,
     "metadata": {},
     "output_type": "execute_result"
    }
   ],
   "source": [
    "adver_data.head(5)"
   ]
  },
  {
   "cell_type": "code",
   "execution_count": 4,
   "metadata": {
    "collapsed": false
   },
   "outputs": [
    {
     "data": {
      "text/html": [
       "<div>\n",
       "<table border=\"1\" class=\"dataframe\">\n",
       "  <thead>\n",
       "    <tr style=\"text-align: right;\">\n",
       "      <th></th>\n",
       "      <th>TV</th>\n",
       "      <th>Radio</th>\n",
       "      <th>Newspaper</th>\n",
       "      <th>Sales</th>\n",
       "    </tr>\n",
       "  </thead>\n",
       "  <tbody>\n",
       "    <tr>\n",
       "      <th>count</th>\n",
       "      <td>200.000000</td>\n",
       "      <td>200.000000</td>\n",
       "      <td>200.000000</td>\n",
       "      <td>200.000000</td>\n",
       "    </tr>\n",
       "    <tr>\n",
       "      <th>mean</th>\n",
       "      <td>147.042500</td>\n",
       "      <td>23.264000</td>\n",
       "      <td>30.554000</td>\n",
       "      <td>14.022500</td>\n",
       "    </tr>\n",
       "    <tr>\n",
       "      <th>std</th>\n",
       "      <td>85.854236</td>\n",
       "      <td>14.846809</td>\n",
       "      <td>21.778621</td>\n",
       "      <td>5.217457</td>\n",
       "    </tr>\n",
       "    <tr>\n",
       "      <th>min</th>\n",
       "      <td>0.700000</td>\n",
       "      <td>0.000000</td>\n",
       "      <td>0.300000</td>\n",
       "      <td>1.600000</td>\n",
       "    </tr>\n",
       "    <tr>\n",
       "      <th>25%</th>\n",
       "      <td>74.375000</td>\n",
       "      <td>9.975000</td>\n",
       "      <td>12.750000</td>\n",
       "      <td>10.375000</td>\n",
       "    </tr>\n",
       "    <tr>\n",
       "      <th>50%</th>\n",
       "      <td>149.750000</td>\n",
       "      <td>22.900000</td>\n",
       "      <td>25.750000</td>\n",
       "      <td>12.900000</td>\n",
       "    </tr>\n",
       "    <tr>\n",
       "      <th>75%</th>\n",
       "      <td>218.825000</td>\n",
       "      <td>36.525000</td>\n",
       "      <td>45.100000</td>\n",
       "      <td>17.400000</td>\n",
       "    </tr>\n",
       "    <tr>\n",
       "      <th>max</th>\n",
       "      <td>296.400000</td>\n",
       "      <td>49.600000</td>\n",
       "      <td>114.000000</td>\n",
       "      <td>27.000000</td>\n",
       "    </tr>\n",
       "  </tbody>\n",
       "</table>\n",
       "</div>"
      ],
      "text/plain": [
       "               TV       Radio   Newspaper       Sales\n",
       "count  200.000000  200.000000  200.000000  200.000000\n",
       "mean   147.042500   23.264000   30.554000   14.022500\n",
       "std     85.854236   14.846809   21.778621    5.217457\n",
       "min      0.700000    0.000000    0.300000    1.600000\n",
       "25%     74.375000    9.975000   12.750000   10.375000\n",
       "50%    149.750000   22.900000   25.750000   12.900000\n",
       "75%    218.825000   36.525000   45.100000   17.400000\n",
       "max    296.400000   49.600000  114.000000   27.000000"
      ]
     },
     "execution_count": 4,
     "metadata": {},
     "output_type": "execute_result"
    }
   ],
   "source": [
    "# Ваш код здесь\n",
    "adver_data.describe()"
   ]
  },
  {
   "cell_type": "markdown",
   "metadata": {},
   "source": [
    "**Создайте массивы NumPy *X* из столбцов TV, Radio и Newspaper и *y* - из столбца Sales. Используйте атрибут *values* объекта pandas DataFrame.**"
   ]
  },
  {
   "cell_type": "code",
   "execution_count": 5,
   "metadata": {
    "collapsed": false
   },
   "outputs": [],
   "source": [
    "X = adver_data[['TV','Radio','Newspaper']].values# Ваш код здесь\n",
    "y =adver_data['Sales'].values # Ваш код здесь"
   ]
  },
  {
   "cell_type": "markdown",
   "metadata": {},
   "source": [
    "**Отмасштабируйте столбцы матрицы *X*, вычтя из каждого значения среднее по соответствующему столбцу и поделив результат на стандартное отклонение. Для определенности, используйте методы mean и std векторов NumPy (реализация std в Pandas может отличаться). Обратите внимание, что в numpy вызов функции .mean() без параметров возвращает среднее по всем элементам массива, а не по столбцам, как в pandas. Чтобы произвести вычисление по столбцам, необходимо указать параметр axis.**"
   ]
  },
  {
   "cell_type": "code",
   "execution_count": 6,
   "metadata": {
    "collapsed": false
   },
   "outputs": [],
   "source": [
    "import numpy as np\n",
    "means, stds = np.mean(X,axis=0),np.std(y,axis=0)# Ваш код здесь"
   ]
  },
  {
   "cell_type": "code",
   "execution_count": 7,
   "metadata": {
    "collapsed": false
   },
   "outputs": [],
   "source": [
    "X = (X-means)/stds# Ваш код здесь"
   ]
  },
  {
   "cell_type": "markdown",
   "metadata": {},
   "source": [
    "**Добавьте к матрице *X* столбец из единиц, используя методы *hstack*, *ones* и *reshape* библиотеки NumPy. Вектор из единиц нужен для того, чтобы не обрабатывать отдельно коэффициент $w_0$ линейной регрессии.**"
   ]
  },
  {
   "cell_type": "code",
   "execution_count": 8,
   "metadata": {
    "collapsed": false
   },
   "outputs": [],
   "source": [
    "import numpy as np\n",
    "X = np.hstack((X,np.ones((X.shape[0], 1)))) # Ваш код здесь"
   ]
  },
  {
   "cell_type": "markdown",
   "metadata": {},
   "source": [
    "**2. Реализуйте функцию *mserror* - среднеквадратичную ошибку прогноза. Она принимает два аргумента - объекты Series *y* (значения целевого признака) и *y\\_pred* (предсказанные значения). Не используйте в этой функции циклы - тогда она будет вычислительно неэффективной.**"
   ]
  },
  {
   "cell_type": "code",
   "execution_count": 9,
   "metadata": {
    "collapsed": true
   },
   "outputs": [],
   "source": [
    "def mserror(y, y_pred):\n",
    "    return np.mean((y-y_pred)**2)# Ваш код здесь"
   ]
  },
  {
   "cell_type": "markdown",
   "metadata": {},
   "source": [
    "**Какова среднеквадратичная ошибка прогноза значений Sales, если всегда предсказывать медианное значение Sales по исходной выборке? Запишите ответ в файл '1.txt'.**"
   ]
  },
  {
   "cell_type": "code",
   "execution_count": 10,
   "metadata": {
    "collapsed": false
   },
   "outputs": [
    {
     "name": "stdout",
     "output_type": "stream",
     "text": [
      "28.34575\n"
     ]
    }
   ],
   "source": [
    "answer1 =mserror(y,np.array([np.median(y)]*y.shape[0]))  # Ваш код здесь\n",
    "print(answer1)\n",
    "write_answer_to_file(answer1, '1.txt')"
   ]
  },
  {
   "cell_type": "markdown",
   "metadata": {},
   "source": [
    "**3. Реализуйте функцию *normal_equation*, которая по заданным матрицам (массивам NumPy) *X* и *y* вычисляет вектор весов $w$ согласно нормальному уравнению линейной регрессии.**"
   ]
  },
  {
   "cell_type": "code",
   "execution_count": 11,
   "metadata": {
    "collapsed": true
   },
   "outputs": [],
   "source": [
    "def normal_equation(X, y):\n",
    "    return np.dot(np.dot(np.linalg.pinv(np.dot(X.T, X)), X.T), y) # Ваш код здесь"
   ]
  },
  {
   "cell_type": "code",
   "execution_count": 12,
   "metadata": {
    "collapsed": false
   },
   "outputs": [
    {
     "name": "stdout",
     "output_type": "stream",
     "text": [
      "[  2.38177364e-01   9.81184975e-01  -5.39952524e-03   1.40225000e+01]\n"
     ]
    }
   ],
   "source": [
    "norm_eq_weights = normal_equation(X, y)\n",
    "print(norm_eq_weights)"
   ]
  },
  {
   "cell_type": "markdown",
   "metadata": {},
   "source": [
    "**Какие продажи предсказываются линейной моделью с весами, найденными с помощью нормального уравнения, в случае средних инвестиций в рекламу по ТВ, радио и в газетах? (то есть при нулевых значениях масштабированных признаков TV, Radio и Newspaper). Запишите ответ в файл '2.txt'.**"
   ]
  },
  {
   "cell_type": "code",
   "execution_count": 13,
   "metadata": {
    "collapsed": false
   },
   "outputs": [],
   "source": [
    "#answer2 =np.dot(np.mean(X, axis=0), norm_eq_weights)[0] # Ваш код здесь\n",
    "#print(answer2)\n",
    "#write_answer_to_file(answer2, '2.txt')"
   ]
  },
  {
   "cell_type": "markdown",
   "metadata": {},
   "source": [
    "**4. Напишите функцию *linear_prediction*, которая принимает на вход матрицу *X* и вектор весов линейной модели *w*, а возвращает вектор прогнозов в виде линейной комбинации столбцов матрицы *X* с весами *w*.**"
   ]
  },
  {
   "cell_type": "code",
   "execution_count": 14,
   "metadata": {
    "collapsed": true
   },
   "outputs": [],
   "source": [
    "def linear_prediction(X, w):\n",
    "    return np.dot(X,w)# Ваш код здесь"
   ]
  },
  {
   "cell_type": "markdown",
   "metadata": {},
   "source": [
    "**Какова среднеквадратичная ошибка прогноза значений Sales в виде линейной модели с весами, найденными с помощью нормального уравнения? Запишите ответ в файл '3.txt'.**"
   ]
  },
  {
   "cell_type": "code",
   "execution_count": 15,
   "metadata": {
    "collapsed": false
   },
   "outputs": [
    {
     "name": "stdout",
     "output_type": "stream",
     "text": [
      "2.78412631451\n"
     ]
    }
   ],
   "source": [
    "answer3 =mserror(y, linear_prediction(X,norm_eq_weights)) # Ваш код здесь\n",
    "print(answer3)\n",
    "write_answer_to_file(answer3, '3.txt')"
   ]
  },
  {
   "cell_type": "markdown",
   "metadata": {},
   "source": [
    "**5. Напишите функцию *stochastic_gradient_step*, реализующую шаг стохастического градиентного спуска для линейной регрессии. Функция должна принимать матрицу *X*, вектора *y* и *w*, число *train_ind* - индекс объекта обучающей выборки (строки матрицы *X*), по которому считается изменение весов, а также число *$\\eta$* (eta) - шаг градиентного спуска (по умолчанию *eta*=0.01). Результатом будет вектор обновленных весов. Наша реализация функции будет явно написана для данных с 3 признаками, но несложно модифицировать для любого числа признаков, можете это сделать.**"
   ]
  },
  {
   "cell_type": "code",
   "execution_count": 16,
   "metadata": {
    "collapsed": false
   },
   "outputs": [
    {
     "name": "stdout",
     "output_type": "stream",
     "text": [
      "[[ 15.9591028    2.79302313   7.42564472   1.        ]\n",
      " [-19.70305269   3.08124098   2.79494458   1.        ]\n",
      " [-24.94861758   4.34939952   7.44485925   1.        ]\n",
      " [  0.85648738   3.46553145   5.36969072   1.        ]]\n",
      "[ 22.1  10.4   9.3  18.5  12.9]\n"
     ]
    }
   ],
   "source": [
    "print X[:4]\n",
    "#print w_init\n",
    "print y[:5]"
   ]
  },
  {
   "cell_type": "code",
   "execution_count": 17,
   "metadata": {
    "collapsed": false
   },
   "outputs": [
    {
     "name": "stdout",
     "output_type": "stream",
     "text": [
      "X[1]: [-19.70305269   3.08124098   2.79494458   1.        ]\n",
      "y[1] 10.4\n"
     ]
    }
   ],
   "source": [
    "def stochastic_gradient_step(X, y, w, train_ind, eta=0.01):\n",
    "    grad0 = X[train_ind][0]*(np.dot(w,X[train_ind])-y[train_ind])\n",
    "    grad1 = X[train_ind][1]*(np.dot(w,X[train_ind])-y[train_ind])\n",
    "    grad2 = X[train_ind][2]*(np.dot(w,X[train_ind])-y[train_ind])\n",
    "    grad3 = X[train_ind][3]*(np.dot(w,X[train_ind])-y[train_ind])\n",
    "    return w - (2*eta/X.shape[0]) * np.array((grad0, grad1, grad2, grad3))\n",
    "print 'X[1]:',X[1]\n",
    "#print 'w_init:',w_init\n",
    "print 'y[1]',y[1]\n",
    "#print stochastic_gradient_step(X, y, w_init, 1, eta=0.01)"
   ]
  },
  {
   "cell_type": "markdown",
   "metadata": {},
   "source": [
    "**6. Напишите функцию *stochastic_gradient_descent*, реализующую стохастический градиентный спуск для линейной регрессии. Функция принимает на вход следующие аргументы:**\n",
    "- X - матрица, соответствующая обучающей выборке\n",
    "- y - вектор значений целевого признака\n",
    "- w_init - вектор начальных весов модели\n",
    "- eta - шаг градиентного спуска (по умолчанию 0.01)\n",
    "- max_iter - максимальное число итераций градиентного спуска (по умолчанию 10000)\n",
    "- max_weight_dist - минимальное евклидово расстояние между векторами весов на соседних итерациях градиентного спуска,\n",
    "при котором алгоритм прекращает работу (по умолчанию 1e-8)\n",
    "- seed - число, используемое для воспроизводимости сгенерированных псевдослучайных чисел (по умолчанию 42)\n",
    "- verbose - флаг печати информации (например, для отладки, по умолчанию False)\n",
    "\n",
    "**На каждой итерации в вектор (список) должно записываться текущее значение среднеквадратичной ошибки. Функция должна возвращать вектор весов $w$, а также вектор (список) ошибок.**"
   ]
  },
  {
   "cell_type": "code",
   "execution_count": 18,
   "metadata": {
    "collapsed": true
   },
   "outputs": [],
   "source": [
    "def stochastic_gradient_descent(X, y, w_init, eta=1e-2, max_iter=1e4,\n",
    "                                min_weight_dist=1e-8, seed=42, verbose=False):\n",
    "    # Инициализируем расстояние между векторами весов на соседних\n",
    "    # итерациях большим числом. \n",
    "    weight_dist = np.inf\n",
    "    # Инициализируем вектор весов\n",
    "    w = w_init\n",
    "    # Сюда будем записывать ошибки на каждой итерации\n",
    "    errors = []\n",
    "    # Счетчик итераций\n",
    "    iter_num = 0\n",
    "    # Будем порождать псевдослучайные числа \n",
    "    # (номер объекта, который будет менять веса), а для воспроизводимости\n",
    "    # этой последовательности псевдослучайных чисел используем seed.\n",
    "    np.random.seed(seed)\n",
    "   \n",
    "    # Основной цикл\n",
    "    while weight_dist > min_weight_dist and iter_num < max_iter:\n",
    "        # порождаем псевдослучайный \n",
    "        # индекс объекта обучающей выборки\n",
    "        random_ind = np.random.randint(X.shape[0])\n",
    "        \n",
    "        \n",
    "        old_w=w\n",
    "        w=stochastic_gradient_step(X,y,w,random_ind,eta=eta)\n",
    "        weight_dist=np.linalg.norm(w-old_w)\n",
    "        errors.append(mserror(y,np.dot(X,w)))\n",
    "        iter_num+=1\n",
    "        if iter_num%10000==0 and verbose:\n",
    "            print \"Iteration: \",iter_num\n",
    "        # Ваш код здесь\n",
    "        \n",
    "    return w, errors"
   ]
  },
  {
   "cell_type": "markdown",
   "metadata": {},
   "source": [
    " **Запустите $10^5$ итераций стохастического градиентного спуска. Укажите вектор начальных весов *w_init*, состоящий из нулей. Оставьте параметры  *eta* и *seed* равными их значениям по умолчанию (*eta*=0.01, *seed*=42 - это важно для проверки ответов).**"
   ]
  },
  {
   "cell_type": "code",
   "execution_count": 19,
   "metadata": {
    "collapsed": false,
    "scrolled": false
   },
   "outputs": [
    {
     "name": "stdout",
     "output_type": "stream",
     "text": [
      "Wall time: 0 ns\n"
     ]
    }
   ],
   "source": [
    "import numpy as np\n",
    "w_init=np.zeros(4)\n",
    "%time\n",
    "stoch_grad_desc_weights, stoch_errors_by_iter =stochastic_gradient_descent(X, y, w_init, eta=1e-2, max_iter=1e5,min_weight_dist=1e-8, seed=42, verbose=False) \n"
   ]
  },
  {
   "cell_type": "markdown",
   "metadata": {},
   "source": [
    "**Посмотрим, чему равна ошибка на первых 50 итерациях стохастического градиентного спуска. Видим, что ошибка не обязательно уменьшается на каждой итерации.**"
   ]
  },
  {
   "cell_type": "code",
   "execution_count": 44,
   "metadata": {
    "collapsed": false
   },
   "outputs": [
    {
     "name": "stdout",
     "output_type": "stream",
     "text": [
      "Populating the interactive namespace from numpy and matplotlib\n"
     ]
    },
    {
     "data": {
      "text/plain": [
       "<matplotlib.text.Text at 0xb855198>"
      ]
     },
     "execution_count": 44,
     "metadata": {},
     "output_type": "execute_result"
    },
    {
     "data": {
      "image/png": "[encoded data removed]",
      "text/plain": [
       "<matplotlib.figure.Figure at 0xb0ae2b0>"
      ]
     },
     "metadata": {},
     "output_type": "display_data"
    }
   ],
   "source": [
    "%pylab inline\n",
    "plot(range(100), stoch_errors_by_iter[:100])\n",
    "xlabel('Iteration number')\n",
    "ylabel('MSE')"
   ]
  },
  {
   "cell_type": "markdown",
   "metadata": {},
   "source": [
    "**Теперь посмотрим на зависимость ошибки от номера итерации для $10^5$ итераций стохастического градиентного спуска. Видим, что алгоритм сходится.**"
   ]
  },
  {
   "cell_type": "code",
   "execution_count": 21,
   "metadata": {
    "collapsed": false
   },
   "outputs": [
    {
     "name": "stdout",
     "output_type": "stream",
     "text": [
      "Populating the interactive namespace from numpy and matplotlib\n"
     ]
    },
    {
     "data": {
      "text/plain": [
       "<matplotlib.text.Text at 0xa2389e8>"
      ]
     },
     "execution_count": 21,
     "metadata": {},
     "output_type": "execute_result"
    },
    {
     "data": {
      "image/png": "[encoded data removed]",
      "text/plain": [
       "<matplotlib.figure.Figure at 0xa37f2e8>"
      ]
     },
     "metadata": {},
     "output_type": "display_data"
    }
   ],
   "source": [
    "%pylab inline\n",
    "plot(range(len(stoch_errors_by_iter)), stoch_errors_by_iter)\n",
    "xlabel('Iteration number')\n",
    "ylabel('MSE')"
   ]
  },
  {
   "cell_type": "markdown",
   "metadata": {},
   "source": [
    "**Посмотрим на вектор весов, к которому сошелся метод.**"
   ]
  },
  {
   "cell_type": "code",
   "execution_count": 22,
   "metadata": {
    "collapsed": false
   },
   "outputs": [
    {
     "data": {
      "text/plain": [
       "array([  2.36431269e-01,   9.88839344e-01,  -2.08003434e-03,\n",
       "         1.40193236e+01])"
      ]
     },
     "execution_count": 22,
     "metadata": {},
     "output_type": "execute_result"
    }
   ],
   "source": [
    "stoch_grad_desc_weights"
   ]
  },
  {
   "cell_type": "markdown",
   "metadata": {},
   "source": [
    "**Посмотрим на среднеквадратичную ошибку на последней итерации.**"
   ]
  },
  {
   "cell_type": "code",
   "execution_count": 58,
   "metadata": {
    "collapsed": false
   },
   "outputs": [
    {
     "data": {
      "text/plain": [
       "[219.07822237775036,\n",
       " 218.62897877507237,\n",
       " 215.74677412041012,\n",
       " 213.75568578392881,\n",
       " 215.76818813866439,\n",
       " 216.69197764928435,\n",
       " 213.19680606895889,\n",
       " 211.32248948900801,\n",
       " 209.49919756251307,\n",
       " 211.0253923363731,\n",
       " 209.79009028613828,\n",
       " 210.27297062006414,\n",
       " 210.40221311576698,\n",
       " 210.46974216155573,\n",
       " 209.79828631723385,\n",
       " 210.16587089016841,\n",
       " 211.15757453815093,\n",
       " 213.04411442113312,\n",
       " 210.62504313392807,\n",
       " 212.39921667378061,\n",
       " 213.17082843943859,\n",
       " 213.17331687372382,\n",
       " 215.03106898717888,\n",
       " 216.90424778419879,\n",
       " 218.63822754905118,\n",
       " 216.93781805725857,\n",
       " 214.34472993957198,\n",
       " 213.66851349047712,\n",
       " 213.94158449980591,\n",
       " 212.20924528291232,\n",
       " 213.43994077826818,\n",
       " 211.58242769205563,\n",
       " 209.27011160929555,\n",
       " 207.47188083676807,\n",
       " 206.80085002035173,\n",
       " 205.97664555510019,\n",
       " 207.1134964176741,\n",
       " 208.56915111961112,\n",
       " 207.80391609835519,\n",
       " 209.38121163386785,\n",
       " 208.73866917704129,\n",
       " 209.51802192372924,\n",
       " 207.2099187452649,\n",
       " 207.85761943275941,\n",
       " 208.78460747125885,\n",
       " 208.19611004262978,\n",
       " 209.89676958073477,\n",
       " 208.28071328011004,\n",
       " 210.11650064090472,\n",
       " 212.24240861480695,\n",
       " 207.73935167532821,\n",
       " 206.6015513715289,\n",
       " 207.30778116409593,\n",
       " 206.23031994391232,\n",
       " 206.81311842918319,\n",
       " 208.2865487715176,\n",
       " 208.89836554636469,\n",
       " 206.94244969269477,\n",
       " 208.16136939385572,\n",
       " 209.68945452378546,\n",
       " 211.58231409289354,\n",
       " 210.01104668766567,\n",
       " 208.87978896642821,\n",
       " 205.263581151095,\n",
       " 205.02365445641325,\n",
       " 205.33631318483327,\n",
       " 204.834400416563,\n",
       " 205.36064144898361,\n",
       " 206.2364032340281,\n",
       " 205.8777075235526,\n",
       " 206.89172284909014,\n",
       " 206.28335096525646,\n",
       " 205.27752572301105,\n",
       " 206.46959990087112,\n",
       " 205.11733851015128,\n",
       " 204.338745067731,\n",
       " 204.23344801366918,\n",
       " 203.99322257628901,\n",
       " 203.33321899397296,\n",
       " 204.43789391133112,\n",
       " 204.56179199507386,\n",
       " 204.00884761056889,\n",
       " 204.67948464976271,\n",
       " 206.18963313514533,\n",
       " 206.96607709530045,\n",
       " 207.69677758888167,\n",
       " 205.08312915870846,\n",
       " 204.03653667813902,\n",
       " 203.34156275271337,\n",
       " 204.5407735203016,\n",
       " 203.17350513314429,\n",
       " 202.70647662132993,\n",
       " 202.37074497548085,\n",
       " 201.93975009489222,\n",
       " 201.96008061033785,\n",
       " 201.89746990058615,\n",
       " 202.03193656345201,\n",
       " 201.84003320670337,\n",
       " 202.0597942173458,\n",
       " 201.59372015890298,\n",
       " 201.77727002277084,\n",
       " 201.30262066710259,\n",
       " 201.15497741856765,\n",
       " 201.14341964332706,\n",
       " 200.98413747164713,\n",
       " 201.35257232194314,\n",
       " 201.44203675274068,\n",
       " 200.77742930532128,\n",
       " 201.14084715041901,\n",
       " 200.73906547900529,\n",
       " 201.26089208989114,\n",
       " 201.85791066136738,\n",
       " 203.02256595421474,\n",
       " 202.45909929342596,\n",
       " 201.96338048952995,\n",
       " 202.4891562808001,\n",
       " 201.89823682572805,\n",
       " 201.59708442667571,\n",
       " 201.07378598313065,\n",
       " 200.59574162065422,\n",
       " 201.16317990869848,\n",
       " 201.49080730095375,\n",
       " 200.85087759803241,\n",
       " 201.27547706187357,\n",
       " 201.73726563597018,\n",
       " 200.47910147081456,\n",
       " 200.06199433706672,\n",
       " 200.03401025710798,\n",
       " 201.06264393066311,\n",
       " 203.07909645263604,\n",
       " 203.31045400078148,\n",
       " 203.93076704382952,\n",
       " 203.08318298653066,\n",
       " 201.18253164407193,\n",
       " 201.62772438045226,\n",
       " 202.17004716764077,\n",
       " 200.75152868885286,\n",
       " 201.69156558460304,\n",
       " 202.01959499423788,\n",
       " 202.65406969966767,\n",
       " 203.64841645343927,\n",
       " 203.51149223550559,\n",
       " 201.04034645475792,\n",
       " 201.74866362429967,\n",
       " 200.93473889337119,\n",
       " 201.2671642857847,\n",
       " 200.81091264208393,\n",
       " 201.32594645971972,\n",
       " 202.30629126590966,\n",
       " 202.51869086866375,\n",
       " 201.73365178859436,\n",
       " 201.92389139301295,\n",
       " 202.60146328918563,\n",
       " 203.78786630679141,\n",
       " 205.30745326666027,\n",
       " 202.9591326294418,\n",
       " 204.60945350664514,\n",
       " 205.23369140753152,\n",
       " 202.05815816338239,\n",
       " 201.78184119476273,\n",
       " 202.63051345120249,\n",
       " 202.54331686468902,\n",
       " 203.199849285651,\n",
       " 204.47387545515915,\n",
       " 202.66915348156107,\n",
       " 203.80535913866225,\n",
       " 201.10175732530391,\n",
       " 203.15315200570836,\n",
       " 204.69550087171334,\n",
       " 206.27025021985719,\n",
       " 207.76971013201316,\n",
       " 209.34080779617182,\n",
       " 207.73408138779723,\n",
       " 208.72379814105247,\n",
       " 205.6562237901658,\n",
       " 203.59975168638522,\n",
       " 200.83766166326816,\n",
       " 201.79500950213864,\n",
       " 200.72950845443847,\n",
       " 199.15941919486175,\n",
       " 198.20910714126614,\n",
       " 198.76874464085415,\n",
       " 198.64893883449585,\n",
       " 198.55998047318178,\n",
       " 197.80837933450567,\n",
       " 197.72142621500981,\n",
       " 197.50575083123221,\n",
       " 197.69028362322652,\n",
       " 197.40073671031132,\n",
       " 197.39950842504885,\n",
       " 197.46739162659199,\n",
       " 197.5634922073323,\n",
       " 197.35849995322206,\n",
       " 197.3617850774742,\n",
       " 197.27021490245025,\n",
       " 197.40266852557127,\n",
       " 197.43437333724779,\n",
       " 197.33231300559453,\n",
       " 197.6416649974681,\n",
       " 197.26945740642529,\n",
       " 197.18331827908415,\n",
       " 197.17051818925279,\n",
       " 197.26121997300876,\n",
       " 197.42273638556549,\n",
       " 198.49398824474338,\n",
       " 199.3561382612792,\n",
       " 198.72009369554374,\n",
       " 199.59693639217741,\n",
       " 197.95790003603295,\n",
       " 197.15721404017569,\n",
       " 196.62583806371819,\n",
       " 196.72798931834427,\n",
       " 196.92562180359087,\n",
       " 197.09727608010817,\n",
       " 198.60067986471941,\n",
       " 197.60607610617518,\n",
       " 197.57475860872873,\n",
       " 197.8534562087107,\n",
       " 196.75645607367318,\n",
       " 196.34144634101213,\n",
       " 196.33364452118425,\n",
       " 196.04590405546472,\n",
       " 196.28488561919687,\n",
       " 196.70114098792089,\n",
       " 196.29399930703781,\n",
       " 195.93883123117189,\n",
       " 196.14911118054428,\n",
       " 196.20560634403847,\n",
       " 196.0922943028483,\n",
       " 196.27054181209627,\n",
       " 196.15137359414948,\n",
       " 196.11261150001855,\n",
       " 195.77241591545177,\n",
       " 196.61309326365543,\n",
       " 197.05524233413934,\n",
       " 196.52986161109274,\n",
       " 195.71844792429613,\n",
       " 196.12705951706769,\n",
       " 196.93103927326629,\n",
       " 196.03759244840086,\n",
       " 196.32724065082934,\n",
       " 196.59323013589835,\n",
       " 195.59858875078351,\n",
       " 195.41722551539053,\n",
       " 195.6262271245333,\n",
       " 195.41298008054954,\n",
       " 195.41537759872676,\n",
       " 195.82170271358029,\n",
       " 196.38879296180005,\n",
       " 195.10609631343249,\n",
       " 195.91610959105878,\n",
       " 195.88069738087594,\n",
       " 196.00206755236468,\n",
       " 196.65147644578107,\n",
       " 195.93657689506912,\n",
       " 195.89617855065757,\n",
       " 196.56428714204267,\n",
       " 198.30460224818606,\n",
       " 198.53923229560755,\n",
       " 201.3379345454949,\n",
       " 200.18789386921381,\n",
       " 200.66973977252616,\n",
       " 201.49730336628767,\n",
       " 199.90726190968522,\n",
       " 197.40901194688684,\n",
       " 198.10952628742621,\n",
       " 198.74648179370533,\n",
       " 200.69119081243514,\n",
       " 198.82563935021847,\n",
       " 200.33674556792809,\n",
       " 200.71917442269969,\n",
       " 201.99832364221277,\n",
       " 198.25346638162094,\n",
       " 198.76394690638375,\n",
       " 201.78803473538434,\n",
       " 198.98032040072499,\n",
       " 198.16218934994501,\n",
       " 197.14805643336433,\n",
       " 198.94527255007455,\n",
       " 200.26860223704583,\n",
       " 200.87319169353489,\n",
       " 197.97024775156956,\n",
       " 199.92133826145124,\n",
       " 202.36420904376976,\n",
       " 203.54610492946085,\n",
       " 201.99732228684704,\n",
       " 205.58752439733789,\n",
       " 205.0776326099311,\n",
       " 200.24095141442675,\n",
       " 203.61277395239412,\n",
       " 204.77328147407613,\n",
       " 207.73079329715512,\n",
       " 202.95659888868852,\n",
       " 206.1120397622521,\n",
       " 205.26270235815065,\n",
       " 206.47592659203482,\n",
       " 201.43736008684584,\n",
       " 202.01956516600822,\n",
       " 201.31332394486083,\n",
       " 198.98527589308941,\n",
       " 200.30418070099702,\n",
       " 200.94933972302476,\n",
       " 202.11069505065126,\n",
       " 202.57217303100674,\n",
       " 203.35892773394633,\n",
       " 204.34308117799949,\n",
       " 201.08828519561342,\n",
       " 203.5359897115564,\n",
       " 207.2624278247649,\n",
       " 208.74619321185048,\n",
       " 210.85929408773853,\n",
       " 210.66237470772339,\n",
       " 207.82410619613475,\n",
       " 210.46513178596069,\n",
       " 211.39950218116945,\n",
       " 212.24704736878212,\n",
       " 213.77457493998415,\n",
       " 215.07965609282343,\n",
       " 215.83478163019717,\n",
       " 217.81274913322326,\n",
       " 218.75161373277658,\n",
       " 218.37723558357257,\n",
       " 215.9135966008761,\n",
       " 217.74960691050035,\n",
       " 219.95024445403016,\n",
       " 223.74699370500369,\n",
       " 228.19473198852091,\n",
       " 223.82578838440193,\n",
       " 216.45132987609733,\n",
       " 209.47803813921419,\n",
       " 209.52783887134939,\n",
       " 207.30931664233063,\n",
       " 204.70231710421635,\n",
       " 203.04880075448921,\n",
       " 207.22775830024386,\n",
       " 207.02084351402817,\n",
       " 203.6337875278748,\n",
       " 202.74060351158502,\n",
       " 203.79034543461043,\n",
       " 203.87564456478495,\n",
       " 200.68249530959577,\n",
       " 196.50268364064942,\n",
       " 197.18189856827809,\n",
       " 198.05631922757638,\n",
       " 197.33289935202808,\n",
       " 197.18511132593667,\n",
       " 197.03917422555037,\n",
       " 198.41181085972377,\n",
       " 196.26279970349736,\n",
       " 196.98781986369838,\n",
       " 198.36816925730867,\n",
       " 199.39292114362212,\n",
       " 197.31576795619497,\n",
       " 196.11936598918518,\n",
       " 194.1155514348128,\n",
       " 196.02202484235502,\n",
       " 197.01448540415606,\n",
       " 197.00143725734429,\n",
       " 195.88355256815564,\n",
       " 194.3435019333796,\n",
       " 195.28790350445945,\n",
       " 193.38303646911439,\n",
       " 193.60977865542117,\n",
       " 193.66856136347533,\n",
       " 194.07850311083902,\n",
       " 193.94290767896655,\n",
       " 191.58953349164855,\n",
       " 193.75676845780282,\n",
       " 193.201913887291,\n",
       " 195.81413241575413,\n",
       " 197.0469602029363,\n",
       " 198.58727539627714,\n",
       " 199.22115363008692,\n",
       " 199.44457773503279,\n",
       " 198.27973148662008,\n",
       " 201.74251586548908,\n",
       " 202.99433334579101,\n",
       " 200.05970117787911,\n",
       " 196.09773439167088,\n",
       " 195.71948760197699,\n",
       " 196.21794226705811,\n",
       " 193.02149101166091,\n",
       " 191.93016691275699,\n",
       " 194.19340728457351,\n",
       " 192.39017371227391,\n",
       " 192.98673358300354,\n",
       " 192.77687940398326,\n",
       " 190.59249030222111,\n",
       " 191.03855653211087,\n",
       " 191.28665359735101,\n",
       " 192.16573138858988,\n",
       " 193.04498522045691,\n",
       " 192.40730977744045,\n",
       " 193.08048328446625,\n",
       " 193.75661755041804,\n",
       " 194.99078121154605,\n",
       " 195.45293507963532,\n",
       " 192.1354606051716,\n",
       " 192.77252038415284,\n",
       " 191.11474318314356,\n",
       " 189.79231504390765,\n",
       " 190.20172644490228,\n",
       " 190.4759818096862,\n",
       " 188.89314831884761,\n",
       " 190.15199753142679,\n",
       " 192.46642026839734,\n",
       " 190.36145603918786,\n",
       " 191.32411143613714,\n",
       " 191.99154365183261,\n",
       " 194.74827677982182,\n",
       " 192.77251097467274,\n",
       " 193.68569400384746,\n",
       " 193.1453605864539,\n",
       " 190.42438586190011,\n",
       " 191.37616403077391,\n",
       " 189.32928410574436,\n",
       " 188.00600184908902,\n",
       " 188.47802557321694,\n",
       " 187.57205608591784,\n",
       " 187.54219543147988,\n",
       " 187.36026862234138,\n",
       " 187.27780378321356,\n",
       " 187.23863647818888,\n",
       " 187.19559725723448,\n",
       " 186.99724286923436,\n",
       " 186.99893747356518,\n",
       " 186.98728473399527,\n",
       " 186.91601469771908,\n",
       " 187.09799912377937,\n",
       " 187.2044867203808,\n",
       " 187.87978006777345,\n",
       " 187.48394536063833,\n",
       " 187.25024905243407,\n",
       " 186.974025932914,\n",
       " 186.67010168777904,\n",
       " 186.70480612026506,\n",
       " 186.74199450655496,\n",
       " 186.55497291836079,\n",
       " 186.66119319948723,\n",
       " 186.68576486859681,\n",
       " 186.71530249794066,\n",
       " 186.52525388110593,\n",
       " 186.41267327019739,\n",
       " 186.42301319977824,\n",
       " 186.61948124999472,\n",
       " 186.97240139087447,\n",
       " 187.38509563993608,\n",
       " 187.68691235355115,\n",
       " 188.16752417529887,\n",
       " 188.68435564825816,\n",
       " 188.27114854884064,\n",
       " 189.36789980455839,\n",
       " 190.4017589403845,\n",
       " 189.45532720220487,\n",
       " 189.86472444789885,\n",
       " 190.88306942792093,\n",
       " 188.72860119491889,\n",
       " 186.95200150774954,\n",
       " 186.05988319399901,\n",
       " 185.7594433874639,\n",
       " 186.05026393034066,\n",
       " 185.78718466573613,\n",
       " 186.7722754376924,\n",
       " 187.98223804176757,\n",
       " 188.5519964324595,\n",
       " 187.85585829553034,\n",
       " 187.34446903253382,\n",
       " 186.0152829303631,\n",
       " 186.43328857211213,\n",
       " 186.13679699775409,\n",
       " 185.91304651498592,\n",
       " 185.94678467900277,\n",
       " 186.45555167167012,\n",
       " 185.98495441990656,\n",
       " 185.29382545742075,\n",
       " 185.59148345955637,\n",
       " 185.22188679786598,\n",
       " 185.23145630386796,\n",
       " 185.23976988326029,\n",
       " 185.60697247288721,\n",
       " 185.74969938438338,\n",
       " 185.79554622149811,\n",
       " 184.94340140217849,\n",
       " 185.34268123701153,\n",
       " 186.07853043157397,\n",
       " 187.33566321693957,\n",
       " 186.56862684042349,\n",
       " 185.31939493766947,\n",
       " 185.38976252215159,\n",
       " 186.36210013023918,\n",
       " 185.18129931724741,\n",
       " 184.4964107764259,\n",
       " 184.36216297014195,\n",
       " 184.59790909369036,\n",
       " 185.07151274786602,\n",
       " 184.28825506142854,\n",
       " 184.47066871412579,\n",
       " 184.5005094019632,\n",
       " 183.98275882007329,\n",
       " 183.81763717607643,\n",
       " 184.07928175333137,\n",
       " 183.85629689697228,\n",
       " 183.83742438742485,\n",
       " 183.71807685605111,\n",
       " 183.84130505821656,\n",
       " 184.08039954006904,\n",
       " 184.0347359951237,\n",
       " 183.47732696321458,\n",
       " 183.43507739126181,\n",
       " 183.37510571226315,\n",
       " 183.50552349147674,\n",
       " 183.62711153044091,\n",
       " 184.16124698153828,\n",
       " 185.00505160443333,\n",
       " 186.05370529634013,\n",
       " 185.23761336778961,\n",
       " 186.59169642946472,\n",
       " 184.63269124082476,\n",
       " 184.13830389651469,\n",
       " 183.82638983636215,\n",
       " 185.34402288097451,\n",
       " 186.33846542510176,\n",
       " 184.60714348034332,\n",
       " 184.35996161607568,\n",
       " 183.89042086302018,\n",
       " 184.28980142160552,\n",
       " 183.22365205027927,\n",
       " 183.44389004531672,\n",
       " 184.16135233568221,\n",
       " 183.92895980939116,\n",
       " 184.95359821178806,\n",
       " 185.16710514097721,\n",
       " 186.69625630927868,\n",
       " 187.63073330699487,\n",
       " 188.977229424314,\n",
       " 189.29027801594216,\n",
       " 191.15991706069269,\n",
       " 193.08915293111454,\n",
       " 193.15442353930783,\n",
       " 194.67419194441143,\n",
       " 196.1906464294116,\n",
       " 195.14861055031253,\n",
       " 191.32164184369373,\n",
       " 189.41610971672603,\n",
       " 189.03732549298846,\n",
       " 186.8207650375,\n",
       " 186.34621761463967,\n",
       " 187.1230412434183,\n",
       " 187.47193925355714,\n",
       " 188.19331629896868,\n",
       " 187.52109421042951,\n",
       " 186.51192981293082,\n",
       " 186.9282717760565,\n",
       " 188.2461537184108,\n",
       " 188.82208276437575,\n",
       " 186.39580895871018,\n",
       " 187.07696594620575,\n",
       " 188.32452073369635,\n",
       " 185.29454219112071,\n",
       " 184.86956073668233,\n",
       " 185.21868864604585,\n",
       " 185.8862886862284,\n",
       " 185.60034573435908,\n",
       " 187.63737029125821,\n",
       " 188.47526408143108,\n",
       " 190.27314796852895,\n",
       " 188.07602943233542,\n",
       " 189.41708156943386,\n",
       " 188.39452028991525,\n",
       " 188.93694940897672,\n",
       " 186.6405144287732,\n",
       " 185.6617968671994,\n",
       " 184.27394525344346,\n",
       " 183.51413917593723,\n",
       " 183.13463385561684,\n",
       " 183.96273622623696,\n",
       " 184.28660135529225,\n",
       " 183.49872841292719,\n",
       " 182.54491271630496,\n",
       " 181.62038913968064,\n",
       " 182.52694572263889,\n",
       " 181.25828091394405,\n",
       " 180.68234620192612,\n",
       " 180.63354990934096,\n",
       " 180.8187615490782,\n",
       " 181.15178917744416,\n",
       " 180.68638457283225,\n",
       " 180.3793788548715,\n",
       " 180.32241432251686,\n",
       " 180.40707425532827,\n",
       " 180.41225956454761,\n",
       " 181.08012355001446,\n",
       " 181.46404439393336,\n",
       " 181.21847710893937,\n",
       " 180.63988909422392,\n",
       " 181.39764966375148,\n",
       " 183.2146747807748,\n",
       " 183.90411626348236,\n",
       " 184.13259662141107,\n",
       " 183.68667551069186,\n",
       " 184.83308669199502,\n",
       " 182.3482652264407,\n",
       " 184.49913229894213,\n",
       " 185.65920152174297,\n",
       " 186.19374600585761,\n",
       " 184.07904032862058,\n",
       " 181.82262954216557,\n",
       " 180.4590952365694,\n",
       " 181.99110652025877,\n",
       " 183.31365214542024,\n",
       " 181.98457906110932,\n",
       " 180.88872997095933,\n",
       " 181.16884140393842,\n",
       " 182.74264206859644,\n",
       " 181.28878215951224,\n",
       " 182.61334737113779,\n",
       " 183.20863641161742,\n",
       " 181.8013291237354,\n",
       " 181.71882361653653,\n",
       " 180.56053518662179,\n",
       " 181.69875676658899,\n",
       " 181.42527947759933,\n",
       " 181.99494311009562,\n",
       " 183.16530780803535,\n",
       " 184.1157476685091,\n",
       " 181.59679370194448,\n",
       " 179.78122089349458,\n",
       " 181.37615726351032,\n",
       " 182.37177376874271,\n",
       " 181.27718809144136,\n",
       " 180.62966974803447,\n",
       " 179.75104942269937,\n",
       " 180.23971363690885,\n",
       " 179.81891592848558,\n",
       " 179.73832344202543,\n",
       " 180.60852999084926,\n",
       " 182.68331800147206,\n",
       " 183.42546079786524,\n",
       " 181.67402745747691,\n",
       " 181.92319381476264,\n",
       " 182.62140178817711,\n",
       " 184.03087236141801,\n",
       " 185.26467193018337,\n",
       " 184.30856394125345,\n",
       " 181.5128001083028,\n",
       " 179.84429379114081,\n",
       " 178.67032039838597,\n",
       " 178.73217602604333,\n",
       " 178.86902501580641,\n",
       " 179.38667911688003,\n",
       " 178.33586449677045,\n",
       " 178.53999791428924,\n",
       " 177.94962418969794,\n",
       " 177.91933793463184,\n",
       " 177.83903027893626,\n",
       " 177.83080784288501,\n",
       " 177.84235560554916,\n",
       " 177.83026575838616,\n",
       " 178.46657703510871,\n",
       " 178.59024311565875,\n",
       " 177.97958593856623,\n",
       " 178.24678998800118,\n",
       " 178.95294915716909,\n",
       " 178.78709455820447,\n",
       " 179.55164693829522,\n",
       " 179.02392169812521,\n",
       " 178.11955532676714,\n",
       " 178.9905241428649,\n",
       " 178.80031754006217,\n",
       " 178.80471394392845,\n",
       " 179.89099463589315,\n",
       " 179.49289378397532,\n",
       " 179.1247249000574,\n",
       " 178.0511833477554,\n",
       " 178.28385985065458,\n",
       " 177.84768198040737,\n",
       " 178.35669330558821,\n",
       " 179.26846572153744,\n",
       " 180.70184833489301,\n",
       " 180.91171252260716,\n",
       " 180.14965601253556,\n",
       " 180.86380133759332,\n",
       " 179.86359094092711,\n",
       " 181.35892926758643,\n",
       " 179.87614801920998,\n",
       " 178.5790914848823,\n",
       " 177.62969030692355,\n",
       " 178.51536055402343,\n",
       " 179.45168519229978,\n",
       " 177.9957227284284,\n",
       " 178.51185141230795,\n",
       " 177.9660270924312,\n",
       " 179.02935490611409,\n",
       " 179.20786271102071,\n",
       " 179.6536819218822,\n",
       " 180.82346834458266,\n",
       " 182.42798631240737,\n",
       " 183.53893178941425,\n",
       " 183.42140584806134,\n",
       " 185.46424830138923,\n",
       " 187.13063606241431,\n",
       " 188.53517330378142,\n",
       " 188.83392846021928,\n",
       " 184.39762079157779,\n",
       " 182.6196698302025,\n",
       " 184.27819082381293,\n",
       " 185.86904630672061,\n",
       " 182.86034111975229,\n",
       " 184.66061422728191,\n",
       " 181.87930510528818,\n",
       " 182.40706161920912,\n",
       " 184.44090077318222,\n",
       " 186.49892353591301,\n",
       " 188.70571570978063,\n",
       " 187.85646921202482,\n",
       " 186.21120557531046,\n",
       " 184.00014822510303,\n",
       " 183.37076861571055,\n",
       " 181.79605472024261,\n",
       " 181.93757840962735,\n",
       " 180.11367298677405,\n",
       " 180.29122835406633,\n",
       " 179.39184387467174,\n",
       " 181.10856793980054,\n",
       " 181.37038840586681,\n",
       " 183.31112603673375,\n",
       " 185.07859640608848,\n",
       " 186.35694091260811,\n",
       " 188.6382845475874,\n",
       " 189.46902250669339,\n",
       " 191.28626883181087,\n",
       " 190.57864230290784,\n",
       " 187.73534017076119,\n",
       " 187.70759257920545,\n",
       " 184.18777860388465,\n",
       " 184.37125985812349,\n",
       " 185.61378005637405,\n",
       " 183.52710889911148,\n",
       " 184.52385389945212,\n",
       " 182.15991257031766,\n",
       " 183.88316896276194,\n",
       " 181.07659209484976,\n",
       " 181.21649412513281,\n",
       " 180.11386689671627,\n",
       " 181.37529075949087,\n",
       " 183.18761465102733,\n",
       " 184.07111456401645,\n",
       " 181.17570273920029,\n",
       " 179.64641954992112,\n",
       " 179.93799326398548,\n",
       " 178.59570371048648,\n",
       " 177.51387690839161,\n",
       " 175.38957733209611,\n",
       " 175.55280006921981,\n",
       " 176.40663272045401,\n",
       " 176.47776084307299,\n",
       " 176.78534962650403,\n",
       " 178.03442620037276,\n",
       " 179.68894060493258,\n",
       " 179.26739533970095,\n",
       " 179.90374315343226,\n",
       " 181.57083406337981,\n",
       " 179.70096315164497,\n",
       " 178.2878338351407,\n",
       " 177.96583352800516,\n",
       " 176.62263450495126,\n",
       " 175.96565293590135,\n",
       " 175.35939726033715,\n",
       " 176.05245955269899,\n",
       " 175.60499912687746,\n",
       " 176.69869069440449,\n",
       " 177.34512054724729,\n",
       " 176.96076953567376,\n",
       " 177.69556578635729,\n",
       " 178.8682659534677,\n",
       " 178.32995522568547,\n",
       " 179.17328034232122,\n",
       " 177.5258573713175,\n",
       " 176.48200159449766,\n",
       " 177.42134781470202,\n",
       " 178.21370084693615,\n",
       " 179.14076837306106,\n",
       " 178.1054413834282,\n",
       " 177.6178563083603,\n",
       " 177.02705054953691,\n",
       " 175.79633061028898,\n",
       " 176.72306952677448,\n",
       " 178.31748871817203,\n",
       " 177.75519062794498,\n",
       " 178.0202708230905,\n",
       " 178.82233353327021,\n",
       " 180.10982323834418,\n",
       " 180.42621523468537,\n",
       " 180.59032066171312,\n",
       " 177.90502583843227,\n",
       " 179.14521710986483,\n",
       " 177.36146993458379,\n",
       " 176.07068484048432,\n",
       " 174.97019102935491,\n",
       " 174.46979816047838,\n",
       " 173.63597758698299,\n",
       " 173.62838408838309,\n",
       " 173.10188657884112,\n",
       " 173.03713588894399,\n",
       " 172.98891666325508,\n",
       " 173.11773808603695,\n",
       " 174.06871842928518,\n",
       " 175.04121397575693,\n",
       " 173.62851423237393,\n",
       " 174.64972922518064,\n",
       " 173.26131672193424,\n",
       " 172.9547645710995,\n",
       " 172.77274690875981,\n",
       " 172.53897743169568,\n",
       " 172.81951917036244,\n",
       " 172.2877937417839,\n",
       " 172.32005339332326,\n",
       " 172.38482413986014,\n",
       " 172.16614767362998,\n",
       " 172.17706592749354,\n",
       " 172.29826984687301,\n",
       " 172.48765841788662,\n",
       " 172.08642375994998,\n",
       " 172.12759932060851,\n",
       " 171.96963559050812,\n",
       " 172.10643739597941,\n",
       " 172.28941203117591,\n",
       " 171.84366914147213,\n",
       " 171.73859552030038,\n",
       " 171.86653705053715,\n",
       " 172.48264923185758,\n",
       " 172.30127676664503,\n",
       " 172.49708399105089,\n",
       " 171.88105239970915,\n",
       " 172.53388182081099,\n",
       " 172.85407308172668,\n",
       " 173.19700908350592,\n",
       " 174.27945441780525,\n",
       " 173.80245506835607,\n",
       " 174.52909736711254,\n",
       " 173.75943435235808,\n",
       " 174.68730828828748,\n",
       " 176.13690253541932,\n",
       " 175.11429751266479,\n",
       " 176.28726168354572,\n",
       " 174.97130461981126,\n",
       " 176.58786338274282,\n",
       " 175.57744301052594,\n",
       " 177.06277113022202,\n",
       " 178.49925011343265,\n",
       " 179.52041981955102,\n",
       " 176.57631000641842,\n",
       " 177.59228629493521,\n",
       " 175.02695556113977,\n",
       " 173.60329813877391,\n",
       " 172.80427954869643,\n",
       " 173.72638095197439,\n",
       " 172.80092390846667,\n",
       " 171.98480194885346,\n",
       " 171.28691583604075,\n",
       " 171.03782080282909,\n",
       " 171.35928283510148,\n",
       " 171.78427597315618,\n",
       " 172.48227202334957,\n",
       " 172.06852546860216,\n",
       " 171.51501151684243,\n",
       " 172.10979475219935,\n",
       " 173.12849454654625,\n",
       " 173.30939317139644,\n",
       " 172.31511289762048,\n",
       " 173.44892102116333,\n",
       " 174.09557760559662,\n",
       " 173.15157705568075,\n",
       " 174.3565720710078,\n",
       " 175.49215029230399,\n",
       " 175.54999300539512,\n",
       " 174.79573384464894,\n",
       " 175.94839101165226,\n",
       " 177.5116040597841,\n",
       " 175.01970951566574,\n",
       " 173.5124959398922,\n",
       " 171.62379061451679,\n",
       " 170.30459731011769,\n",
       " 170.45304836421755,\n",
       " 170.5300048025814,\n",
       " 170.8739699737377,\n",
       " 171.49413790720155,\n",
       " 170.60697241359006,\n",
       " 170.07097276909852,\n",
       " 170.42038946019312,\n",
       " 169.90962746529493,\n",
       " 169.769378387963,\n",
       " 169.94640750218485,\n",
       " 169.68759731462578,\n",
       " 169.60834860208553,\n",
       " 169.5652851354792,\n",
       " 169.74638273529493,\n",
       " 169.55781307464625,\n",
       " 169.56416743651883,\n",
       " 169.61312426689631,\n",
       " 169.87009501517073,\n",
       " 170.07684754283792,\n",
       " 170.23957587694244,\n",
       " 169.82295814978082,\n",
       " 169.67708962124817,\n",
       " 169.56558831208361,\n",
       " 169.91088247107837,\n",
       " 169.52776865590181,\n",
       " 169.48008605901015,\n",
       " 169.46365133403341,\n",
       " 169.41832950490721,\n",
       " 169.56231269374794,\n",
       " 169.91850213317403,\n",
       " 169.789113693779,\n",
       " 169.91466368692505,\n",
       " 169.37582753173211,\n",
       " 169.11797560014412,\n",
       " 169.13878511097474,\n",
       " 169.28340253400739,\n",
       " 169.52839554008978,\n",
       " 169.67412298709183,\n",
       " 169.14069974428838,\n",
       " 169.45041280761544,\n",
       " 169.14721412847976,\n",
       " 169.30501585234677,\n",
       " 169.05055973921108,\n",
       " 169.04005202303466,\n",
       " 169.34128361347948,\n",
       " 168.84838761838932,\n",
       " 169.00240899201469,\n",
       " 168.75547705280661,\n",
       " 168.79616849957864,\n",
       " 169.25630273581066,\n",
       " 170.0315463905257,\n",
       " 169.71844113001904,\n",
       " 168.79433207001654,\n",
       " 168.97709103854351,\n",
       " 168.48259095456407,\n",
       " 168.6391987697051,\n",
       " 168.48724868096983,\n",
       " 168.4223072636679,\n",
       " 168.45052474308417,\n",
       " 168.99052787570562,\n",
       " 168.2924934673274,\n",
       " 168.59965059211316,\n",
       " 169.35458400116207,\n",
       " 168.59160621782448,\n",
       " 168.19677063731498,\n",
       " 168.44800196354888,\n",
       " 168.83635835795366,\n",
       " 169.56613893001074,\n",
       " 169.25683376150832,\n",
       " 169.51603309574838,\n",
       " 171.36098839248953,\n",
       " 171.61130138742962,\n",
       " 170.66822734185189,\n",
       " 168.98826349618449,\n",
       " 169.55302477920944,\n",
       " 169.03210752223097,\n",
       " 169.76692326800787,\n",
       " 169.38530690189089,\n",
       " 168.4532023739911,\n",
       " 167.72759809743718,\n",
       " 167.74115719117566,\n",
       " 167.60415454483814,\n",
       " 167.60333022143732,\n",
       " 167.69149419344686,\n",
       " 167.34360986315153,\n",
       " 167.27715146996854,\n",
       " 167.58362980272804,\n",
       " 167.31502369679455,\n",
       " 167.13608181085226,\n",
       " 167.35807224515403,\n",
       " 167.0770355369217,\n",
       " 166.95335864792159,\n",
       " 167.04343247794728,\n",
       " 166.81977201104317,\n",
       " 167.02115525071554,\n",
       " 167.04373466254256,\n",
       " 166.7496032308278,\n",
       " 167.09071795149356,\n",
       " 166.68614142768615,\n",
       " 166.85539845689291,\n",
       " 166.68495389807811,\n",
       " 166.91085277192934,\n",
       " 166.70465579387368,\n",
       " 167.10333342431412,\n",
       " 167.43267301577055,\n",
       " 168.32076874838407,\n",
       " 169.30560634559188,\n",
       " 169.40599409941333,\n",
       " 167.650433952659,\n",
       " 168.87608878345154,\n",
       " 170.35830256438712,\n",
       " 170.47149355221194,\n",
       " 169.44999513223902,\n",
       " 168.59607187893286,\n",
       " 167.29832813786487,\n",
       " 166.8772204195505,\n",
       " 167.03633420852472,\n",
       " ...]"
      ]
     },
     "execution_count": 58,
     "metadata": {},
     "output_type": "execute_result"
    }
   ],
   "source": [
    "stoch_errors_by_iter[-1]\n",
    "stoch_errors_by_iter"
   ]
  },
  {
   "cell_type": "markdown",
   "metadata": {},
   "source": [
    "**Какова среднеквадратичная ошибка прогноза значений Sales в виде линейной модели с весами, найденными с помощью градиентного спуска? Запишите ответ в файл '4.txt'.**"
   ]
  },
  {
   "cell_type": "code",
   "execution_count": 59,
   "metadata": {
    "collapsed": false
   },
   "outputs": [
    {
     "name": "stdout",
     "output_type": "stream",
     "text": [
      "(200L,)\n",
      "[  2.36431269e-01   9.88839344e-01  -2.08003434e-03   1.40193236e+01]\n",
      "2.78572840218\n"
     ]
    }
   ],
   "source": [
    "#answer4=((np.dot(X, stoch_grad_desc_weights)-y)**2)/y.shape\n",
    "#answer.shape\n",
    "print y.shape\n",
    "print stoch_grad_desc_weights\n",
    "answer4 =mserror(y, linear_prediction(X,stoch_grad_desc_weights))\n",
    "print answer4\n",
    "write_answer_to_file(answer4, '4.txt')"
   ]
  },
  {
   "cell_type": "markdown",
   "metadata": {},
   "source": [
    "**Ответами к заданию будут текстовые файлы, полученные в ходе этого решения. Обратите внимание, что отправленные файлы не должны содержать пустую строку в конце. Данный нюанс является ограничением платформы Coursera. Мы работаем над исправлением этого ограничения.**"
   ]
  }
 ],
 "metadata": {
  "anaconda-cloud": {},
  "kernelspec": {
   "display_name": "Python [Root]",
   "language": "python",
   "name": "Python [Root]"
  },
  "language_info": {
   "codemirror_mode": {
    "name": "ipython",
    "version": 2
   },
   "file_extension": ".py",
   "mimetype": "text/x-python",
   "name": "python",
   "nbconvert_exporter": "python",
   "pygments_lexer": "ipython2",
   "version": "2.7.12"
  }
 },
 "nbformat": 4,
 "nbformat_minor": 0
}
