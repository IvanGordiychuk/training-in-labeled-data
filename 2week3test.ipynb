{
 "cells": [
  {
   "cell_type": "markdown",
   "metadata": {},
   "source": [
    "Какую из этих гипотез нельзя проверить с помощью критерия знаков?"
   ]
  },
  {
   "cell_type": "code",
   "execution_count": 22,
   "metadata": {
    "collapsed": true
   },
   "outputs": [],
   "source": [
    "import numpy as np\n",
    "import pandas as pd\n",
    "import itertools\n"
   ]
  },
  {
   "cell_type": "code",
   "execution_count": 23,
   "metadata": {
    "collapsed": true
   },
   "outputs": [],
   "source": [
    "from scipy import stats\n",
    "from statsmodels.stats.descriptivestats import sign_test\n",
    "from statsmodels.stats.weightstats import zconfint"
   ]
  },
  {
   "cell_type": "code",
   "execution_count": 24,
   "metadata": {},
   "outputs": [
    {
     "name": "stdout",
     "output_type": "stream",
     "text": [
      "Populating the interactive namespace from numpy and matplotlib\n"
     ]
    }
   ],
   "source": [
    "%pylab inline"
   ]
  },
  {
   "cell_type": "markdown",
   "metadata": {},
   "source": [
    "# 4"
   ]
  },
  {
   "cell_type": "markdown",
   "metadata": {},
   "source": [
    "4)Давайте вернёмся к данным выживаемости пациентов с лейкоцитарной лимфомой из видео про критерий знаков:\n",
    "\n",
    "49,58,75,110,112,132,151,276,281,362∗\n",
    "Измерено остаточное время жизни с момента начала наблюдения (в неделях); звёздочка обозначает цензурирование сверху — исследование длилось 7 лет, и остаточное время жизни одного пациента, который дожил до конца наблюдения, неизвестно.\n",
    "\n",
    "Поскольку цензурировано только одно наблюдение, для проверки гипотезы H0:medX=200 на этих данных можно использовать критерий знаковых рангов — можно считать, что время дожития последнего пациента в точности равно 362, на ранг этого наблюдения это никак не повлияет.\n",
    "\n",
    "Критерием знаковых рангов проверьте эту гипотезу против двусторонней альтернативы, введите достигаемый уровень значимости, округлённый до четырёх знаков после десятичной точки."
   ]
  },
  {
   "cell_type": "code",
   "execution_count": 25,
   "metadata": {},
   "outputs": [
    {
     "name": "stdout",
     "output_type": "stream",
     "text": [
      "   weeks\n",
      "0     49\n",
      "1     58\n",
      "2     75\n",
      "3    110\n",
      "4    112\n",
      "5    132\n",
      "6    151\n",
      "7    276\n",
      "8    281\n",
      "9    362\n"
     ]
    }
   ],
   "source": [
    "limphoma=pd.DataFrame([49,58,75,110,112,132,151,276,281,362],columns=[\"weeks\"])\n",
    "print limphoma"
   ]
  },
  {
   "cell_type": "code",
   "execution_count": 26,
   "metadata": {
    "collapsed": true
   },
   "outputs": [],
   "source": [
    "medX=200."
   ]
  },
  {
   "cell_type": "code",
   "execution_count": 27,
   "metadata": {},
   "outputs": [
    {
     "data": {
      "text/html": [
       "<div>\n",
       "<style>\n",
       "    .dataframe thead tr:only-child th {\n",
       "        text-align: right;\n",
       "    }\n",
       "\n",
       "    .dataframe thead th {\n",
       "        text-align: left;\n",
       "    }\n",
       "\n",
       "    .dataframe tbody tr th {\n",
       "        vertical-align: top;\n",
       "    }\n",
       "</style>\n",
       "<table border=\"1\" class=\"dataframe\">\n",
       "  <thead>\n",
       "    <tr style=\"text-align: right;\">\n",
       "      <th></th>\n",
       "      <th>weeks</th>\n",
       "    </tr>\n",
       "  </thead>\n",
       "  <tbody>\n",
       "    <tr>\n",
       "      <th>count</th>\n",
       "      <td>10.000000</td>\n",
       "    </tr>\n",
       "    <tr>\n",
       "      <th>mean</th>\n",
       "      <td>160.600000</td>\n",
       "    </tr>\n",
       "    <tr>\n",
       "      <th>std</th>\n",
       "      <td>107.763321</td>\n",
       "    </tr>\n",
       "    <tr>\n",
       "      <th>min</th>\n",
       "      <td>49.000000</td>\n",
       "    </tr>\n",
       "    <tr>\n",
       "      <th>25%</th>\n",
       "      <td>83.750000</td>\n",
       "    </tr>\n",
       "    <tr>\n",
       "      <th>50%</th>\n",
       "      <td>122.000000</td>\n",
       "    </tr>\n",
       "    <tr>\n",
       "      <th>75%</th>\n",
       "      <td>244.750000</td>\n",
       "    </tr>\n",
       "    <tr>\n",
       "      <th>max</th>\n",
       "      <td>362.000000</td>\n",
       "    </tr>\n",
       "  </tbody>\n",
       "</table>\n",
       "</div>"
      ],
      "text/plain": [
       "            weeks\n",
       "count   10.000000\n",
       "mean   160.600000\n",
       "std    107.763321\n",
       "min     49.000000\n",
       "25%     83.750000\n",
       "50%    122.000000\n",
       "75%    244.750000\n",
       "max    362.000000"
      ]
     },
     "execution_count": 27,
     "metadata": {},
     "output_type": "execute_result"
    }
   ],
   "source": [
    "limphoma.describe()"
   ]
  },
  {
   "cell_type": "code",
   "execution_count": 28,
   "metadata": {},
   "outputs": [
    {
     "data": {
      "image/png": "[encoded data removed]",
      "text/plain": [
       "<matplotlib.figure.Figure at 0xebbae10>"
      ]
     },
     "metadata": {},
     "output_type": "display_data"
    }
   ],
   "source": [
    "\n",
    "pylab.hist(limphoma.weeks)\n",
    "pylab.show()"
   ]
  },
  {
   "cell_type": "code",
   "execution_count": 29,
   "metadata": {},
   "outputs": [
    {
     "name": "stdout",
     "output_type": "stream",
     "text": [
      "95% confidence interval for the mean time: [93.808829, 227.391171]\n"
     ]
    }
   ],
   "source": [
    "print '95%% confidence interval for the mean time: [%f, %f]' % zconfint(limphoma.weeks)"
   ]
  },
  {
   "cell_type": "code",
   "execution_count": 30,
   "metadata": {},
   "outputs": [
    {
     "data": {
      "text/plain": [
       "WilcoxonResult(statistic=17.0, pvalue=0.28450269791120752)"
      ]
     },
     "execution_count": 30,
     "metadata": {},
     "output_type": "execute_result"
    }
   ],
   "source": [
    "m0 = 0.5\n",
    "stats.wilcoxon(limphoma.weeks - medX)"
   ]
  },
  {
   "cell_type": "markdown",
   "metadata": {},
   "source": [
    "Ответ: 0.2845 "
   ]
  },
  {
   "cell_type": "markdown",
   "metadata": {},
   "source": [
    "# Bingo!"
   ]
  },
  {
   "cell_type": "markdown",
   "metadata": {},
   "source": [
    "# 5"
   ]
  },
  {
   "cell_type": "markdown",
   "metadata": {},
   "source": [
    "5) В ходе исследования влияния лесозаготовки на биоразнообразие лесов острова Борнео собраны данные о количестве видов деревьев в 12 лесах, где вырубка не ведётся:\n",
    "\n",
    "22,22,15,13,19,19,18,20,21,13,13,15,\n",
    "и в 9 лесах, где идёт вырубка:\n",
    "\n",
    "17,18,18,15,12,4,14,15,10.\n",
    "Проверьте гипотезу о <b>равенстве среднего количества</b> видов в двух типах лесов против <b>односторонней альтернативы</b> о снижении биоразнообразия в <b>вырубаемых</b> лесах. Используйте <b>ранговый критерий</b>. Чему равен достигаемый уровень значимости? Округлите до четырёх знаков после десятичной точки."
   ]
  },
  {
   "cell_type": "code",
   "execution_count": 31,
   "metadata": {
    "collapsed": true
   },
   "outputs": [],
   "source": [
    "X_cutoff=np.array([22,22,15,13,19,19,18,20,21,13,13,15])\n",
    "X_cuton=np.array([17,18,18,15,12,4,14,15,10])\n"
   ]
  },
  {
   "cell_type": "code",
   "execution_count": 32,
   "metadata": {},
   "outputs": [
    {
     "name": "stdout",
     "output_type": "stream",
     "text": [
      "био разнообразие не ведётся вырубка: (12L,) , био разнообразие ведётся вырубка: (9L,)\n",
      "среднее количество видов без вырубки:  17.5 , среднее количество видов с вырубкой: 13.6666666667\n"
     ]
    }
   ],
   "source": [
    "print \"био разнообразие не ведётся вырубка:\", X_cutoff.shape, \", био разнообразие ведётся вырубка:\", X_cuton.shape\n",
    "print \"среднее количество видов без вырубки: \", X_cutoff.mean(), \", среднее количество видов с вырубкой:\", X_cuton.mean()"
   ]
  },
  {
   "cell_type": "code",
   "execution_count": 33,
   "metadata": {
    "collapsed": true
   },
   "outputs": [],
   "source": [
    "\n",
    "\n",
    "result_5=stats.mannwhitneyu(X_cutoff, X_cuton)"
   ]
  },
  {
   "cell_type": "code",
   "execution_count": 34,
   "metadata": {},
   "outputs": [
    {
     "name": "stdout",
     "output_type": "stream",
     "text": [
      "p-value: 0.029000\n"
     ]
    }
   ],
   "source": [
    "print \"p-value: %f\"% round(result_5[1],4)"
   ]
  },
  {
   "cell_type": "markdown",
   "metadata": {
    "collapsed": true
   },
   "source": [
    "# BINGO!\n"
   ]
  },
  {
   "cell_type": "markdown",
   "metadata": {},
   "source": [
    "# 6"
   ]
  },
  {
   "cell_type": "markdown",
   "metadata": {},
   "source": [
    "28 января 1986 года космический шаттл \"Челленджер\" взорвался при взлёте. Семь астронавтов, находившихся на борту, погибли. В ходе расследования причин катастрофы основной версией была неполадка с резиновыми уплотнительными кольцами в соединении с ракетными ускорителями. Для 23 предшествовавших катастрофе полётов \"Челленджера\" известны температура воздуха и появление повреждений хотя бы у одного из уплотнительных колец."
   ]
  },
  {
   "cell_type": "markdown",
   "metadata": {},
   "source": [
    "С помощью бутстрепа <b>постройте 95% доверительный интервал для разности средних температур воздуха</b> при запусках, когда уплотнительные кольца повреждались, и запусках, когда повреждений не было. Чему равна его ближайшая к нулю граница? Округлите до четырёх знаков после запятой.\n",
    "\n",
    "Чтобы получить в точности такой же доверительный интервал, как у нас:\n",
    "\n",
    "установите random seed = 0 перед первым вызовом функции get_bootstrap_samples, один раз\n",
    "сделайте по 1000 псевдовыборок из каждой выборки."
   ]
  },
  {
   "cell_type": "code",
   "execution_count": 35,
   "metadata": {
    "collapsed": true
   },
   "outputs": [],
   "source": [
    "challenger=pd.read_csv('challenger.txt', '\\t')"
   ]
  },
  {
   "cell_type": "code",
   "execution_count": 36,
   "metadata": {},
   "outputs": [
    {
     "data": {
      "text/html": [
       "<div>\n",
       "<style>\n",
       "    .dataframe thead tr:only-child th {\n",
       "        text-align: right;\n",
       "    }\n",
       "\n",
       "    .dataframe thead th {\n",
       "        text-align: left;\n",
       "    }\n",
       "\n",
       "    .dataframe tbody tr th {\n",
       "        vertical-align: top;\n",
       "    }\n",
       "</style>\n",
       "<table border=\"1\" class=\"dataframe\">\n",
       "  <thead>\n",
       "    <tr style=\"text-align: right;\">\n",
       "      <th></th>\n",
       "      <th>Temperature</th>\n",
       "      <th>Incident</th>\n",
       "    </tr>\n",
       "  </thead>\n",
       "  <tbody>\n",
       "    <tr>\n",
       "      <th>count</th>\n",
       "      <td>23.000000</td>\n",
       "      <td>23.000000</td>\n",
       "    </tr>\n",
       "    <tr>\n",
       "      <th>mean</th>\n",
       "      <td>20.860870</td>\n",
       "      <td>0.304348</td>\n",
       "    </tr>\n",
       "    <tr>\n",
       "      <th>std</th>\n",
       "      <td>3.919501</td>\n",
       "      <td>0.470472</td>\n",
       "    </tr>\n",
       "    <tr>\n",
       "      <th>min</th>\n",
       "      <td>11.700000</td>\n",
       "      <td>0.000000</td>\n",
       "    </tr>\n",
       "    <tr>\n",
       "      <th>25%</th>\n",
       "      <td>19.400000</td>\n",
       "      <td>0.000000</td>\n",
       "    </tr>\n",
       "    <tr>\n",
       "      <th>50%</th>\n",
       "      <td>21.100000</td>\n",
       "      <td>0.000000</td>\n",
       "    </tr>\n",
       "    <tr>\n",
       "      <th>75%</th>\n",
       "      <td>23.900000</td>\n",
       "      <td>1.000000</td>\n",
       "    </tr>\n",
       "    <tr>\n",
       "      <th>max</th>\n",
       "      <td>27.200000</td>\n",
       "      <td>1.000000</td>\n",
       "    </tr>\n",
       "  </tbody>\n",
       "</table>\n",
       "</div>"
      ],
      "text/plain": [
       "       Temperature   Incident\n",
       "count    23.000000  23.000000\n",
       "mean     20.860870   0.304348\n",
       "std       3.919501   0.470472\n",
       "min      11.700000   0.000000\n",
       "25%      19.400000   0.000000\n",
       "50%      21.100000   0.000000\n",
       "75%      23.900000   1.000000\n",
       "max      27.200000   1.000000"
      ]
     },
     "execution_count": 36,
     "metadata": {},
     "output_type": "execute_result"
    }
   ],
   "source": [
    "challenger.describe()"
   ]
  },
  {
   "cell_type": "code",
   "execution_count": 37,
   "metadata": {},
   "outputs": [
    {
     "data": {
      "text/plain": [
       "0    16\n",
       "1     7\n",
       "Name: Incident, dtype: int64"
      ]
     },
     "execution_count": 37,
     "metadata": {},
     "output_type": "execute_result"
    }
   ],
   "source": [
    "challenger.Incident.value_counts()\n"
   ]
  },
  {
   "cell_type": "code",
   "execution_count": 38,
   "metadata": {},
   "outputs": [
    {
     "data": {
      "text/html": [
       "<div>\n",
       "<style>\n",
       "    .dataframe thead tr:only-child th {\n",
       "        text-align: right;\n",
       "    }\n",
       "\n",
       "    .dataframe thead th {\n",
       "        text-align: left;\n",
       "    }\n",
       "\n",
       "    .dataframe tbody tr th {\n",
       "        vertical-align: top;\n",
       "    }\n",
       "</style>\n",
       "<table border=\"1\" class=\"dataframe\">\n",
       "  <thead>\n",
       "    <tr style=\"text-align: right;\">\n",
       "      <th></th>\n",
       "      <th>Unnamed: 0</th>\n",
       "      <th>Temperature</th>\n",
       "      <th>Incident</th>\n",
       "    </tr>\n",
       "  </thead>\n",
       "  <tbody>\n",
       "    <tr>\n",
       "      <th>0</th>\n",
       "      <td>Apr12.81</td>\n",
       "      <td>18.9</td>\n",
       "      <td>0</td>\n",
       "    </tr>\n",
       "    <tr>\n",
       "      <th>1</th>\n",
       "      <td>Nov12.81</td>\n",
       "      <td>21.1</td>\n",
       "      <td>1</td>\n",
       "    </tr>\n",
       "    <tr>\n",
       "      <th>2</th>\n",
       "      <td>Mar22.82</td>\n",
       "      <td>20.6</td>\n",
       "      <td>0</td>\n",
       "    </tr>\n",
       "    <tr>\n",
       "      <th>3</th>\n",
       "      <td>Nov11.82</td>\n",
       "      <td>20.0</td>\n",
       "      <td>0</td>\n",
       "    </tr>\n",
       "    <tr>\n",
       "      <th>4</th>\n",
       "      <td>Apr04.83</td>\n",
       "      <td>19.4</td>\n",
       "      <td>0</td>\n",
       "    </tr>\n",
       "    <tr>\n",
       "      <th>5</th>\n",
       "      <td>Jun18.83</td>\n",
       "      <td>22.2</td>\n",
       "      <td>0</td>\n",
       "    </tr>\n",
       "    <tr>\n",
       "      <th>6</th>\n",
       "      <td>Aug30.83</td>\n",
       "      <td>22.8</td>\n",
       "      <td>0</td>\n",
       "    </tr>\n",
       "    <tr>\n",
       "      <th>7</th>\n",
       "      <td>Nov28.83</td>\n",
       "      <td>21.1</td>\n",
       "      <td>0</td>\n",
       "    </tr>\n",
       "    <tr>\n",
       "      <th>8</th>\n",
       "      <td>Feb03.84</td>\n",
       "      <td>13.9</td>\n",
       "      <td>1</td>\n",
       "    </tr>\n",
       "    <tr>\n",
       "      <th>9</th>\n",
       "      <td>Apr06.84</td>\n",
       "      <td>17.2</td>\n",
       "      <td>1</td>\n",
       "    </tr>\n",
       "    <tr>\n",
       "      <th>10</th>\n",
       "      <td>Aug30.84</td>\n",
       "      <td>21.1</td>\n",
       "      <td>1</td>\n",
       "    </tr>\n",
       "    <tr>\n",
       "      <th>11</th>\n",
       "      <td>Oct05.84</td>\n",
       "      <td>25.6</td>\n",
       "      <td>0</td>\n",
       "    </tr>\n",
       "    <tr>\n",
       "      <th>12</th>\n",
       "      <td>Nov08.84</td>\n",
       "      <td>19.4</td>\n",
       "      <td>0</td>\n",
       "    </tr>\n",
       "    <tr>\n",
       "      <th>13</th>\n",
       "      <td>Jan24.85</td>\n",
       "      <td>11.7</td>\n",
       "      <td>1</td>\n",
       "    </tr>\n",
       "    <tr>\n",
       "      <th>14</th>\n",
       "      <td>Apr12.85</td>\n",
       "      <td>19.4</td>\n",
       "      <td>0</td>\n",
       "    </tr>\n",
       "    <tr>\n",
       "      <th>15</th>\n",
       "      <td>Apr29.85</td>\n",
       "      <td>23.9</td>\n",
       "      <td>0</td>\n",
       "    </tr>\n",
       "    <tr>\n",
       "      <th>16</th>\n",
       "      <td>Jun17.85</td>\n",
       "      <td>21.1</td>\n",
       "      <td>0</td>\n",
       "    </tr>\n",
       "    <tr>\n",
       "      <th>17</th>\n",
       "      <td>Jul29.85</td>\n",
       "      <td>27.2</td>\n",
       "      <td>0</td>\n",
       "    </tr>\n",
       "    <tr>\n",
       "      <th>18</th>\n",
       "      <td>Aug27.85</td>\n",
       "      <td>24.4</td>\n",
       "      <td>0</td>\n",
       "    </tr>\n",
       "    <tr>\n",
       "      <th>19</th>\n",
       "      <td>Oct03.85</td>\n",
       "      <td>26.1</td>\n",
       "      <td>0</td>\n",
       "    </tr>\n",
       "    <tr>\n",
       "      <th>20</th>\n",
       "      <td>Oct30.85</td>\n",
       "      <td>23.9</td>\n",
       "      <td>1</td>\n",
       "    </tr>\n",
       "    <tr>\n",
       "      <th>21</th>\n",
       "      <td>Nov26.85</td>\n",
       "      <td>24.4</td>\n",
       "      <td>0</td>\n",
       "    </tr>\n",
       "    <tr>\n",
       "      <th>22</th>\n",
       "      <td>Jan12.86</td>\n",
       "      <td>14.4</td>\n",
       "      <td>1</td>\n",
       "    </tr>\n",
       "  </tbody>\n",
       "</table>\n",
       "</div>"
      ],
      "text/plain": [
       "   Unnamed: 0  Temperature  Incident\n",
       "0    Apr12.81         18.9         0\n",
       "1    Nov12.81         21.1         1\n",
       "2    Mar22.82         20.6         0\n",
       "3    Nov11.82         20.0         0\n",
       "4    Apr04.83         19.4         0\n",
       "5    Jun18.83         22.2         0\n",
       "6    Aug30.83         22.8         0\n",
       "7    Nov28.83         21.1         0\n",
       "8    Feb03.84         13.9         1\n",
       "9    Apr06.84         17.2         1\n",
       "10   Aug30.84         21.1         1\n",
       "11   Oct05.84         25.6         0\n",
       "12   Nov08.84         19.4         0\n",
       "13   Jan24.85         11.7         1\n",
       "14   Apr12.85         19.4         0\n",
       "15   Apr29.85         23.9         0\n",
       "16   Jun17.85         21.1         0\n",
       "17   Jul29.85         27.2         0\n",
       "18   Aug27.85         24.4         0\n",
       "19   Oct03.85         26.1         0\n",
       "20   Oct30.85         23.9         1\n",
       "21   Nov26.85         24.4         0\n",
       "22   Jan12.86         14.4         1"
      ]
     },
     "execution_count": 38,
     "metadata": {},
     "output_type": "execute_result"
    }
   ],
   "source": [
    "challenger"
   ]
  },
  {
   "cell_type": "code",
   "execution_count": 39,
   "metadata": {},
   "outputs": [
    {
     "name": "stdout",
     "output_type": "stream",
     "text": [
      "[ 21.1  13.9  17.2  21.1  11.7  23.9  14.4]\n",
      "[ 18.9  20.6  20.   19.4  22.2  22.8  21.1  25.6  19.4  19.4  23.9  21.1\n",
      "  27.2  24.4  26.1  24.4]\n"
     ]
    }
   ],
   "source": [
    "no_damage=challenger[challenger.Incident == 0].Temperature.values\n",
    "damage=challenger[challenger.Incident == 1].Temperature.values\n",
    "print damage\n",
    "print no_damage"
   ]
  },
  {
   "cell_type": "code",
   "execution_count": 40,
   "metadata": {
    "collapsed": true
   },
   "outputs": [],
   "source": [
    "def get_bootstrap_samples(data, n_samples):\n",
    "    indices = np.random.randint(0, len(data), (n_samples, len(data)))\n",
    "    samples = data[indices]\n",
    "    return samples"
   ]
  },
  {
   "cell_type": "code",
   "execution_count": 41,
   "metadata": {
    "collapsed": true
   },
   "outputs": [],
   "source": [
    "def stat_intervals(stat, alpha):\n",
    "    boundaries = np.percentile(stat, [100 * alpha / 2., 100 * (1 - alpha / 2.)])\n",
    "    return boundaries\n"
   ]
  },
  {
   "cell_type": "code",
   "execution_count": 42,
   "metadata": {},
   "outputs": [
    {
     "name": "stdout",
     "output_type": "stream",
     "text": [
      "95% confidence interval for the damage mean: [ 14.61428571  20.71607143]\n",
      "95% confidence interval for the no damage mean: [ 21.14359375  23.55046875]\n"
     ]
    }
   ],
   "source": [
    "np.random.seed(0)\n",
    "\n",
    "damage_scores = map(np.mean, get_bootstrap_samples(damage, 1000))\n",
    "no_damage_scores = map(np.mean, get_bootstrap_samples(no_damage, 1000))\n",
    "\n",
    "print \"95% confidence interval for the damage mean:\",  stat_intervals(damage_scores, 0.05)\n",
    "print \"95% confidence interval for the no damage mean:\",  stat_intervals(no_damage_scores, 0.05)"
   ]
  },
  {
   "cell_type": "code",
   "execution_count": 43,
   "metadata": {},
   "outputs": [
    {
     "name": "stdout",
     "output_type": "stream",
     "text": [
      "[2.6339285714285694, 3.7633928571428577, 6.5526785714285722, 3.6062499999999993, 2.695535714285711, 3.398214285714289, 5.985714285714284, 3.9330357142857117, 3.3178571428571431, 6.5991071428571413, 4.9312499999999986, 4.4258928571428591, 7.0589285714285701, 7.6910714285714263, 1.4312499999999986, 2.8642857142857103, 4.1294642857142847, 2.5553571428571402, 3.1723214285714292, 4.25, 7.1866071428571381, 7.6848214285714267, 1.1821428571428605, 4.8910714285714256, 2.6187499999999986, 3.3026785714285687, 1.945535714285711, 6.4169642857142826, 2.7223214285714263, -0.26249999999999929, 4.9580357142857139, 3.5714285714285694, 2.4357142857142904, 3.1312499999999979, 4.2821428571428584, 5.351785714285711, 3.1205357142857153, 4.7258928571428527, 3.709821428571427, 3.0125000000000028, 5.1883928571428566, 2.8848214285714242, 5.8892857142857125, 2.28125, 3.3901785714285673, 3.1383928571428577, 6.1383928571428577, 6.144642857142852, 2.1178571428571402, 2.9312500000000021, 6.2562499999999996, 3.6241071428571416, 4.9258928571428555, 6.0035714285714263, 3.9678571428571416, 2.5008928571428584, 3.8098214285714249, 7.0285714285714267, 8.8624999999999954, 0.80714285714285694, 3.3428571428571452, 6.0044642857142847, 3.4062499999999929, 5.6035714285714242, 3.7276785714285694, 6.4276785714285651, 5.4982142857142797, 3.0294642857142833, 7.132142857142858, 4.3991071428571402, 9.5232142857142854, 2.5821428571428555, 6.350892857142858, 4.6267857142857132, 5.6785714285714253, 3.7446428571428569, 6.5464285714285637, 6.0991071428571395, 6.71875, 3.8473214285714299, 7.0017857142857096, 4.0366071428571431, 3.7392857142857139, 4.8053571428571438, 3.2875000000000014, 4.7223214285714228, 4.2866071428571395, 2.6839285714285772, 4.9169642857142861, 5.5732142857142826, 5.5758928571428541, 7.625892857142853, 4.0571428571428534, 6.0598214285714285, 2.0633928571428548, 2.3026785714285687, 5.5928571428571452, 5.0276785714285666, 5.2946428571428541, 5.0383928571428562, 2.4964285714285737, 2.5473214285714292, 3.7133928571428605, 5.9383928571428548, 4.3000000000000007, 2.5160714285714327, 3.1116071428571423, 2.3517857142857181, 4.5678571428571431, 3.5660714285714299, 3.5812499999999972, 2.9178571428571409, 3.648214285714289, 5.0696428571428527, 4.4410714285714299, 5.9312499999999986, 5.7366071428571388, 5.6803571428571402, 5.5098214285714313, 3.5366071428571466, 4.4964285714285737, 6.1544642857142868, 6.383035714285711, 9.127678571428568, 6.5526785714285669, 4.6089285714285708, 5.4178571428571409, 4.8044642857142819, 3.2553571428571395, 4.721428571428568, 5.945535714285711, 5.283928571428568, 7.319642857142858, 5.1892857142857132, 4.0544642857142854, 2.7535714285714263, 3.2285714285714278, 4.6089285714285673, 7.6401785714285708, 2.1517857142857117, 3.4419642857142811, 4.2017857142857125, 3.8848214285714278, 7.6526785714285701, 2.5437500000000028, 4.1455357142857139, 3.2517857142857096, 8.5142857142857142, 5.3455357142857167, 3.8910714285714256, 6.9642857142857082, 0.042857142857140929, 1.928571428571427, 4.0080357142857146, 5.3017857142857139, 6.9883928571428591, 4.4196428571428577, 2.6991071428571409, 3.7526785714285715, 3.559821428571432, 6.4839285714285708, 2.2580357142857146, 2.8991071428571402, 4.6276785714285715, 6.0866071428571402, 2.6750000000000007, 7.916071428571426, 1.6267857142857096, 5.5366071428571431, 6.6741071428571459, 6.7053571428571423, 5.4553571428571388, 4.8026785714285722, 3.5723214285714313, 4.1607142857142811, 4.9276785714285651, 2.0312500000000036, 3.9410714285714228, 6.0491071428571388, 2.6044642857142861, 5.4214285714285673, 2.8482142857142847, 2.5910714285714285, 5.8160714285714263, 3.1464285714285722, 7.2919642857142843, 2.8714285714285737, 2.7750000000000057, 6.5500000000000007, 4.0053571428571431, 4.1187499999999986, 4.9607142857142783, 7.0437499999999975, 1.6928571428571431, 7.3169642857142865, 5.8151785714285751, 6.3669642857142854, 5.5044642857142847, 4.3919642857142875, 5.8633928571428555, 1.7401785714285687, 4.7401785714285687, 1.9044642857142833, 6.5312499999999964, 2.6258928571428584, 4.2794642857142797, 4.3455357142857132, 6.1419642857142822, 5.6285714285714263, 2.636607142857148, 4.1312499999999979, 6.6607142857142847, 3.0964285714285715, 6.3401785714285701, 7.7580357142857128, 6.2651785714285708, 4.2178571428571416, 2.7883928571428562, 2.9383928571428584, 2.9178571428571445, 4.3508928571428562, 4.9866071428571423, 4.7544642857142811, 7.2008928571428577, 6.8669642857142819, 3.9383928571428548, 4.5276785714285737, 3.6089285714285744, 2.8785714285714299, 5.0589285714285666, 4.5196428571428591, -0.37410714285714519, 6.1919642857142883, 6.5749999999999993, 5.3187499999999979, 2.2366071428571388, 3.9428571428571431, 5.7455357142857171, 5.5482142857142875, 6.5241071428571438, 4.9741071428571466, 3.8758928571428584, 3.1982142857142826, 2.6678571428571374, 2.1187499999999986, 6.2249999999999996, 1.9366071428571452, 3.90625, 2.5080357142857146, 2.5678571428571395, 5.9017857142857117, 6.7312499999999993, 2.9366071428571416, 8.1232142857142797, 3.9160714285714278, 1.4508928571428541, 4.8883928571428577, 2.8223214285714313, 5.1669642857142826, 5.8535714285714242, 5.1276785714285715, 3.6535714285714249, 3.9955357142857117, 2.329464285714284, 5.2866071428571431, 4.5607142857142797, 5.3660714285714217, 4.8758928571428548, 3.2642857142857125, 2.2044642857142875, 4.2928571428571409, 5.2821428571428548, 6.2053571428571423, 5.1883928571428584, 2.8053571428571438, 5.8392857142857117, 4.6241071428571416, 3.644642857142852, 7.0776785714285726, 4.9758928571428562, 8.1026785714285676, 3.6142857142857103, 5.8857142857142826, 3.0669642857142883, 6.5589285714285701, 4.2812499999999964, 2.5142857142857125, 6.1928571428571395, 6.6160714285714253, 4.9008928571428534, 5.9883928571428555, 4.8366071428571402, 3.1517857142857117, 3.9812500000000028, 4.1375000000000028, 2.7124999999999986, 0.99107142857142705, 3.0964285714285715, 2.3866071428571409, 7.0080357142857093, 5.0428571428571409, 6.3071428571428587, 2.2151785714285737, 4.1294642857142883, 4.8839285714285658, 3.0776785714285708, 6.0205357142857121, 3.5437499999999993, 7.2651785714285708, 5.1982142857142861, 3.09375, 4.3991071428571438, 5.0982142857142847, 3.3767857142857167, 5.3803571428571395, 4.0892857142857117, 3.709821428571427, 2.2616071428571445, 3.923214285714284, 4.4580357142857139, 6.2991071428571388, 5.283928571428568, 8.6875000000000018, 7.8830357142857146, 2.9589285714285722, 6.6973214285714242, 3.1241071428571416, 3.5035714285714299, 4.3428571428571416, 5.8080357142857117, 3.4241071428571459, 5.690178571428568, 3.3125000000000036, 3.7357142857142875, 6.6848214285714285, 2.6580357142857132, 2.286607142857136, 4.446428571428573, 4.7142857142857153, 4.2071428571428555, 5.6321428571428527, 5.666964285714279, 5.6705357142857089, 3.7321428571428541, 6.1517857142857117, 6.3562499999999975, 5.9482142857142861, 4.1544642857142868, 7.9080357142857132, 4.9526785714285673, 4.1008928571428562, 4.798214285714284, 2.0758928571428577, 5.1544642857142797, 4.0098214285714242, 5.0892857142857117, 5.9044642857142868, 2.8982142857142854, 3.8116071428571381, 6.9107142857142847, 4.9508928571428541, 5.5366071428571395, 5.4124999999999979, 1.9616071428571438, 3.5357142857142811, 3.5571428571428534, 6.7794642857142815, 0.025000000000005684, 4.6616071428571431, 1.5241071428571438, 1.545535714285716, 5.8071428571428534, 4.8133928571428548, 6.7196428571428548, 1.9687500000000036, 5.684821428571432, 2.1464285714285687, 4.3482142857142811, 7.1044642857142826, 4.9874999999999972, 3.6017857142857146, 6.0589285714285701, 5.5089285714285694, 5.4258928571428555, 5.1910714285714263, 0.50714285714285623, 3.3830357142857181, 1.9455357142857146, 8.1133928571428591, 4.7732142857142854, 2.164285714285711, 1.7464285714285737, 4.7142857142857117, 3.7267857142857146, 2.7866071428571395, 5.8830357142857146, 4.5205357142857139, 3.3696428571428569, 4.7982142857142804, 5.9866071428571388, 3.4116071428571431, 4.9366071428571381, 2.4812499999999993, 7.4758928571428527, 5.8598214285714256, 3.4205357142857125, 3.5955357142857167, -0.48660714285714235, 4.5401785714285658, 4.0160714285714327, 8.7116071428571438, 6.1803571428571402, 2.883035714285711, 7.2044642857142804, 2.5508928571428591, 2.9955357142857117, 4.6821428571428534, 3.3696428571428569, 8.5410714285714295, 5.1008928571428509, 5.0749999999999993, 5.7767857142857153, 4.340178571428563, 1.9633928571428569, 6.6258928571428548, 4.4223214285714256, 6.5892857142857117, 3.6892857142857167, 5.7482142857142868, 8.0642857142857114, 3.2607142857142861, 4.2535714285714263, 1.739285714285721, 3.6839285714285701, 5.3883928571428541, 5.1696428571428577, 6.1848214285714249, 4.6642857142857075, 3.1098214285714327, 2.295535714285716, 7.2473214285714267, 6.4964285714285719, 6.3598214285714327, 5.7544642857142847, 3.8392857142857153, 6.053571428571427, 5.4116071428571395, 5.0080357142857146, 3.3794642857142883, 9.7955357142857142, 4.0062499999999979, 5.0553571428571367, 4.3366071428571402, 4.5732142857142826, 7.3366071428571384, 5.0732142857142861, 4.9196428571428541, 2.5901785714285701, 6.2830357142857132, 5.252678571428568, 5.9223214285714256, 3.1303571428571395, 1.5500000000000007, 4.7375000000000007, 3.178571428571427, 5.0062499999999943, 3.2642857142857196, 7.5383928571428545, 5.1553571428571416, 2.9571428571428591, 4.6455357142857103, 6.9964285714285666, 6.9071428571428548, 2.3598214285714256, 6.3991071428571402, 2.8580357142857089, 5.6223214285714267, 6.0767857142857125, 7.2205357142857132, 4.4803571428571409, 4.9419642857142847, 4.4750000000000014, 5.4526785714285708, 5.9241071428571459, 2.0374999999999979, 0.84464285714285836, 5.8116071428571416, 3.8848214285714278, 3.7892857142857146, 5.8169642857142811, 5.1696428571428577, 4.7455357142857153, 5.0839285714285687, 4.4107142857142883, 3.8258928571428541, 6.1767857142857103, 5.5874999999999968, 4.741071428571427, 4.1571428571428619, 3.7928571428571409, 6.0374999999999979, 6.3535714285714278, 4.8455357142857096, 1.90625, 8.0839285714285722, 4.1812499999999986, 5.6428571428571388, 4.2999999999999972, 4.7214285714285715, 1.6883928571428584, 1.2008928571428577, 4.648214285714289, 4.2991071428571388, 7.4169642857142843, 5.5892857142857153, 5.8535714285714313, 5.4571428571428591, 5.4044642857142868, 3.7178571428571416, 3.7357142857142911, 8.9973214285714267, 1.5508928571428555, 6.5232142857142854, 4.4803571428571409, 2.5401785714285658, 3.7723214285714306, 5.125, 4.3357142857142854, 6.5580357142857117, 5.4098214285714263, 0.94017857142857153, 6.3089285714285666, 3.2919642857142861, 5.6660714285714278, 2.772321428571427, 4.1999999999999993, 4.9928571428571438, 1.5303571428571416, 4.6071428571428541, 1.3642857142857174, 7.0116071428571427, 2.8955357142857139, 2.6258928571428584, 6.1455357142857103, 1.8044642857142854, 5.0553571428571438, 2.9419642857142883, 3.9544642857142875, 4.533928571428568, 4.4178571428571445, 5.8687499999999986, 5.6419642857142804, 4.4375, 0.11339285714285552, 3.6794642857142819, 3.0098214285714242, 6.5999999999999979, 6.5830357142857068, 3.6437500000000007, 4.9562500000000007, 4.2276785714285658, 3.4339285714285737, 2.7803571428571416, 4.6374999999999957, 0.4419642857142847, 4.147321428571427, 5.0214285714285651, 5.0866071428571402, 0.96339285714285694, 7.3857142857142826, 3.4821428571428577, 7.8571428571428559, 6.0035714285714263, 4.772321428571427, 7.0428571428571409, 5.3455357142857167, 7.2544642857142794, 3.3419642857142833, 7.7482142857142815, 4.3982142857142854, 7.1651785714285676, 4.266964285714284, 8.2776785714285701, 6.5071428571428527, 4.59375, 7.096428571428568, 6.0642857142857132, 2.0151785714285708, 2.5071428571428527, 2.3901785714285779, 3.3964285714285687, 2.8285714285714327, 6.178571428571427, 5.0937499999999964, 3.8883928571428577, 5.0205357142857139, 4.0821428571428555, 2.6964285714285694, 7.40625, 4.1776785714285687, 4.1857142857142833, 7.6928571428571413, 5.8616071428571388, 2.9794642857142861, 6.3696428571428534, 8.0901785714285701, 5.471428571428568, 8.3303571428571441, 3.6598214285714263, 5.8232142857142826, 5.7178571428571434, 3.7455357142857117, 4.9723214285714299, 4.8482142857142883, 5.0116071428571445, 4.170535714285716, 4.1357142857142861, 4.9241071428571423, 5.7803571428571416, 4.3794642857142847, 2.3517857142857181, 1.8392857142857153, 3.9312499999999986, 5.9866071428571423, 3.4053571428571416, 4.9830357142857089, 4.03125, 3.1321428571428562, 3.2955357142857125, 6.4633928571428534, 4.516964285714284, 3.3883928571428577, 8.803571428571427, 3.4178571428571409, 1.5437499999999993, 2.8044642857142819, 6.6526785714285666, 4.9178571428571409, 6.7107142857142854, 5.8124999999999964, 8.0758928571428559, 3.977678571428573, 5.653571428571432, 4.9821428571428541, 5.5883928571428534, 3.7205357142857132, 4.181249999999995, 3.8258928571428541, 4.4419642857142883, 3.3285714285714256, 5.584821428571427, 1.5633928571428548, 6.2428571428571367, 1.5053571428571431, 2.7758928571428569, 1.7616071428571445, 3.6696428571428541, 6.3133928571428548, 2.3830357142857075, 6.8535714285714242, 3.790178571428573, 6.336607142857142, 7.500892857142853, 6.7705357142857157, 6.4383928571428566, 3.9642857142857117, 4.8464285714285715, 7.4267857142857121, 4.7589285714285694, 2.923214285714284, 5.4750000000000014, 5.2321428571428577, 3.0973214285714299, 6.3678571428571402, 2.8000000000000043, 3.3946428571428555, 5.2178571428571416, 3.9794642857142826, 4.6901785714285751, 3.0160714285714256, -0.065178571428575083, 5.0607142857142868, 3.8142857142857096, 2.5437499999999993, 4.7553571428571431, 3.3901785714285673, 1.7053571428571423, 6.7857142857142865, 1.2732142857142854, 4.0857142857142854, 6.9428571428571413, 5.0116071428571445, 7.1991071428571409, 6.5285714285714285, 4.2366071428571459, 5.2008928571428541, 4.3758928571428584, 3.0910714285714285, 6.3732142857142868, 3.946428571428573, 2.0937500000000036, 6.6741071428571388, 4.3446428571428584, 5.6669642857142826, 7.0919642857142815, 6.6857142857142868, 5.699107142857148, 2.5589285714285701, 1.7294642857142897, 6.2473214285714285, 3.6553571428571452, 2.5803571428571423, 6.1491071428571402, 2.7053571428571423, 6.6839285714285683, 4.1366071428571409, 3.34375, 5.8366071428571438, 3.6089285714285708, 8.469642857142853, 4.2607142857142861, 6.7455357142857153, 5.0357142857142847, 5.7821428571428548, 2.4205357142857089, 4.8169642857142811, 4.5732142857142861, 7.0830357142857139, 3.9071428571428548, 4.054464285714289, 4.9464285714285694, 7.3437499999999929, 2.4767857142857181, 5.3982142857142819, 5.7160714285714285, 5.3696428571428534, 5.8714285714285666, 2.7696428571428555, 5.3401785714285737, 6.3151785714285715, 2.8160714285714299, 2.764285714285716, 9.2419642857142854, 4.5562500000000021, 4.7776785714285737, 6.1499999999999986, 7.0339285714285698, 2.2696428571428555, 6.5910714285714267, 6.9973214285714338, 6.9544642857142822, 6.9901785714285687, 5.002678571428568, 4.1071428571428541, 5.5294642857142868, 6.4330357142857117, 4.415178571428573, 3.1366071428571445, 5.9830357142857125, 3.415178571428573, 4.3964285714285651, 5.7491071428571381, 3.7080357142857139, 4.3428571428571416, 5.4169642857142826, 4.346428571428568, 3.2553571428571395, 1.6919642857142847, 3.5151785714285708, 6.8535714285714295, 7.3732142857142851, 3.6616071428571431, 4.5857142857142854, 8.010714285714279, 6.0446428571428541, 3.9187499999999993, 3.0428571428571445, 3.1883928571428584, 4.2276785714285694, 4.1866071428571381, 2.7821428571428548, 8.3330357142857121, 4.6973214285714313, 6.3151785714285698, 4.5241071428571438, 2.3982142857142854, 2.4955357142857117, 5.2366071428571388, 5.0812500000000007, 5.7678571428571388, 4.2991071428571423, 2.4651785714285701, 3.78125, 4.9089285714285715, 3.576785714285716, 4.2562499999999979, 4.0330357142857096, 3.7660714285714327, 6.9812499999999993, 3.2687500000000007, 3.8330357142857139, 3.8642857142857139, 5.2767857142857153, 3.2455357142857117, 4.3892857142857125, 2.4901785714285722, 2.829464285714284, 4.8017857142857103, 3.7892857142857146, 2.008928571428573, 2.141964285714284, 3.1116071428571459, 4.3901785714285637, 7.1446428571428537, 6.3151785714285698, 4.4357142857142833, 3.5723214285714313, 3.4437500000000014, 4.34375, 3.8732142857142833, 5.7830357142857096, 5.6696428571428541, 4.9642857142857117, 6.4133928571428562, 6.9160714285714242, 5.1803571428571438, 2.0428571428571445, 4.75, 5.1732142857142875, 5.966071428571432, 2.1125000000000007, 5.3696428571428569, 4.6714285714285673, 4.7044642857142875, 1.2544642857142847, 2.7089285714285758, 5.7892857142857146, 6.3276785714285708, 5.4366071428571416, 3.7767857142857117, 2.1928571428571466, 3.7080357142857174, 5.9303571428571384, 7.7705357142857121, 6.7241071428571431, 2.3830357142857146, 3.931249999999995, 5.5991071428571431, 6.2437499999999986, 5.4892857142857174, 2.579464285714284, 7.0535714285714288, 3.4205357142857125, 4.8026785714285687, 2.9714285714285715, 5.6348214285714278, 4.363392857142852, 3.4535714285714327, 3.7232142857142811, 2.9098214285714299, 6.5928571428571399, 3.9616071428571438, 2.790178571428573, 5.7232142857142847, 4.9982142857142904, 8.2642857142857142, 2.491964285714289, 3.7142857142857153, 4.0660714285714299, 2.6928571428571431, 4.2651785714285673, 5.2544642857142847, 8.0562500000000004, 5.5491071428571388, 5.7062500000000007, 6.1803571428571402, 2.5642857142857132, 6.1946428571428562, 3.9839285714285673, 6.516964285714284, 4.641964285714284, 2.8062499999999986, 4.5982142857142811, 4.3803571428571431, 4.5464285714285708, 3.5508928571428555, 3.2455357142857153, 2.1901785714285644, 6.3616071428571388, 4.2428571428571438, 5.5750000000000011, 5.8116071428571381, 7.2526785714285662, 5.0589285714285666, 4.6294642857142847, 5.3312499999999972, 4.1571428571428548, 4.647321428571427, 4.758928571428573, 3.7419642857142854, 5.1366071428571409, 4.9857142857142875, 5.5651785714285715, 3.383928571428573, 3.8089285714285701, 5.7482142857142851, 6.1624999999999961, 5.4214285714285708, 3.5053571428571395, 1.2196428571428548, 3.4973214285714249, 4.5821428571428591, 0.019642857142851966, 1.1642857142857146, 5.3062500000000021, 2.5151785714285673, 6.1142857142857139, 5.7080357142857139, 6.9428571428571413, 4.8624999999999972, 4.2392857142857139, 5.4321428571428534, 1.3107142857142833, 4.5973214285714263, 6.3562499999999975, 5.5366071428571395, 3.2616071428571409, 3.4580357142857174, 4.6857142857142833, 4.0303571428571416, 7.048214285714284, 5.9633928571428534, 3.4999999999999964, 4.3964285714285722, 2.7330357142857089, 6.0830357142857139, 2.6178571428571438, 4.3553571428571445, 6.2250000000000014, 3.7973214285714256, 4.6875, 2.7482142857142868, 7.1017857142857146, 4.6919642857142811, 5.1803571428571402, 7.1553571428571399, 5.8848214285714278, 4.5366071428571431, 3.5008928571428548, 2.7267857142857146, 5.0892857142857153, 4.1008928571428598, 2.9616071428571402, 4.0419642857142826, 4.7544642857142883, 3.2035714285714256, 3.2223214285714263, 3.9258928571428591, 2.4553571428571423, 6.296428571428569, 7.0303571428571381, 5.2919642857142826, 4.959821428571427, 3.6116071428571423, 5.0901785714285737, 8.080357142857137, 6.5250000000000021, 6.2696428571428555, 5.993749999999995, 9.0232142857142819, 4.1848214285714285, 5.7303571428571409, 8.5151785714285708, 6.4294642857142854, 5.7196428571428548, 4.144642857142852, 4.3392857142857153, 7.7124999999999986, 7.1232142857142833, 4.4669642857142868, 3.2732142857142854, 4.0107142857142826, 5.0562499999999986, 2.6482142857142854, 6.3446428571428548, 2.8053571428571402, 4.4250000000000007, 6.21875, 6.4812499999999975, 4.3428571428571416, 1.9187499999999993, 3.1285714285714299, 0.80446428571428186, 6.9303571428571384, 3.8187500000000014, 5.4482142857142861, 1.9633928571428569, 2.8187499999999979, 6.2866071428571431, 4.1401785714285708]\n"
     ]
    }
   ],
   "source": [
    "delta_median_scores = map(lambda x: x[1] - x[0], zip(damage_scores, no_damage_scores))\n",
    "print delta_median_scores"
   ]
  },
  {
   "cell_type": "code",
   "execution_count": 44,
   "metadata": {},
   "outputs": [
    {
     "name": "stdout",
     "output_type": "stream",
     "text": [
      "95% confidence interval for the difference between medians [ 1.45040179  8.06457589]\n"
     ]
    }
   ],
   "source": [
    "print \"95% confidence interval for the difference between medians\",  stat_intervals(delta_median_scores, 0.05)"
   ]
  },
  {
   "cell_type": "markdown",
   "metadata": {},
   "source": [
    "Ответ: 1.4504"
   ]
  },
  {
   "cell_type": "markdown",
   "metadata": {},
   "source": [
    "# 7"
   ]
  },
  {
   "cell_type": "markdown",
   "metadata": {},
   "source": [
    "На данных предыдущей задачи проверьте гипотезу об одинаковой средней температуре воздуха в дни, когда уплотнительный кольца повреждались, и дни, когда повреждений не было. Используйте <b>перестановочный критерий и двустороннюю альтернативу</b>. Чему равен достигаемый уровень значимости? Округлите до четырёх знаков после десятичной точки.\n",
    "\n",
    "Чтобы получить такое же значение, как мы:\n",
    "\n",
    "установите random seed = 0;\n",
    "возьмите 10000 перестановок."
   ]
  },
  {
   "cell_type": "code",
   "execution_count": 45,
   "metadata": {
    "collapsed": true
   },
   "outputs": [],
   "source": [
    "np.random.seed(0)\n",
    "def permutation_t_stat_ind(sample1, sample2):\n",
    "    return np.mean(sample1) - np.mean(sample2)\n",
    "\n",
    "def get_random_combinations(n1, n2, max_combinations):\n",
    "    index = range(n1 + n2)\n",
    "    indices = set([tuple(index)])\n",
    "    for i in range(max_combinations - 1):\n",
    "        np.random.shuffle(index)\n",
    "        indices.add(tuple(index))\n",
    "    return [(index[:n1], index[n1:]) for index in indices]\n",
    "\n",
    "def permutation_test(sample, mean, max_permutations = None, alternative = 'two-sided'):\n",
    "    if alternative not in ('two-sided', 'less', 'greater'):\n",
    "        raise ValueError(\"alternative not recognized\\n\"\n",
    "                         \"should be 'two-sided', 'less' or 'greater'\")\n",
    "    \n",
    "    t_stat = permutation_t_stat_ind(sample, mean)\n",
    "    \n",
    "    zero_distr = permutation_zero_dist_ind(sample, mean, max_permutations)\n",
    "    \n",
    "    if alternative == 'two-sided':\n",
    "        return sum([1. if abs(x) >= abs(t_stat) else 0. for x in zero_distr]) / len(zero_distr)\n",
    "    \n",
    "    if alternative == 'less':\n",
    "        return sum([1. if x <= t_stat else 0. for x in zero_distr]) / len(zero_distr)\n",
    "\n",
    "    if alternative == 'greater':\n",
    "        return sum([1. if x >= t_stat else 0. for x in zero_distr]) / len(zero_distr)"
   ]
  },
  {
   "cell_type": "code",
   "execution_count": 46,
   "metadata": {},
   "outputs": [
    {
     "ename": "NameError",
     "evalue": "global name 'permutation_zero_dist_ind' is not defined",
     "output_type": "error",
     "traceback": [
      "\u001b[1;31m---------------------------------------------------------------------------\u001b[0m",
      "\u001b[1;31mNameError\u001b[0m                                 Traceback (most recent call last)",
      "\u001b[1;32m<ipython-input-46-62e6bec7a746>\u001b[0m in \u001b[0;36m<module>\u001b[1;34m()\u001b[0m\n\u001b[1;32m----> 1\u001b[1;33m \u001b[1;32mprint\u001b[0m \u001b[1;34m\"p-value: %f\"\u001b[0m \u001b[1;33m%\u001b[0m \u001b[0mpermutation_test\u001b[0m\u001b[1;33m(\u001b[0m\u001b[0mdamage\u001b[0m\u001b[1;33m,\u001b[0m\u001b[0mno_damage\u001b[0m\u001b[1;33m,\u001b[0m \u001b[0mmax_permutations\u001b[0m \u001b[1;33m=\u001b[0m \u001b[1;36m10000\u001b[0m\u001b[1;33m)\u001b[0m\u001b[1;33m\u001b[0m\u001b[0m\n\u001b[0m",
      "\u001b[1;32m<ipython-input-45-8ba4b56ebbb0>\u001b[0m in \u001b[0;36mpermutation_test\u001b[1;34m(sample, mean, max_permutations, alternative)\u001b[0m\n\u001b[0;32m     18\u001b[0m     \u001b[0mt_stat\u001b[0m \u001b[1;33m=\u001b[0m \u001b[0mpermutation_t_stat_ind\u001b[0m\u001b[1;33m(\u001b[0m\u001b[0msample\u001b[0m\u001b[1;33m,\u001b[0m \u001b[0mmean\u001b[0m\u001b[1;33m)\u001b[0m\u001b[1;33m\u001b[0m\u001b[0m\n\u001b[0;32m     19\u001b[0m \u001b[1;33m\u001b[0m\u001b[0m\n\u001b[1;32m---> 20\u001b[1;33m     \u001b[0mzero_distr\u001b[0m \u001b[1;33m=\u001b[0m \u001b[0mpermutation_zero_dist_ind\u001b[0m\u001b[1;33m(\u001b[0m\u001b[0msample\u001b[0m\u001b[1;33m,\u001b[0m \u001b[0mmean\u001b[0m\u001b[1;33m,\u001b[0m \u001b[0mmax_permutations\u001b[0m\u001b[1;33m)\u001b[0m\u001b[1;33m\u001b[0m\u001b[0m\n\u001b[0m\u001b[0;32m     21\u001b[0m \u001b[1;33m\u001b[0m\u001b[0m\n\u001b[0;32m     22\u001b[0m     \u001b[1;32mif\u001b[0m \u001b[0malternative\u001b[0m \u001b[1;33m==\u001b[0m \u001b[1;34m'two-sided'\u001b[0m\u001b[1;33m:\u001b[0m\u001b[1;33m\u001b[0m\u001b[0m\n",
      "\u001b[1;31mNameError\u001b[0m: global name 'permutation_zero_dist_ind' is not defined"
     ]
    }
   ],
   "source": [
    "print \"p-value: %f\" % permutation_test(damage,no_damage, max_permutations = 10000)"
   ]
  },
  {
   "cell_type": "markdown",
   "metadata": {},
   "source": [
    "ответ: 0.0057"
   ]
  },
  {
   "cell_type": "code",
   "execution_count": null,
   "metadata": {
    "collapsed": true
   },
   "outputs": [],
   "source": []
  }
 ],
 "metadata": {
  "kernelspec": {
   "display_name": "Python 2",
   "language": "python",
   "name": "python2"
  },
  "language_info": {
   "codemirror_mode": {
    "name": "ipython",
    "version": 2
   },
   "file_extension": ".py",
   "mimetype": "text/x-python",
   "name": "python",
   "nbconvert_exporter": "python",
   "pygments_lexer": "ipython2",
   "version": "2.7.14"
  }
 },
 "nbformat": 4,
 "nbformat_minor": 2
}
